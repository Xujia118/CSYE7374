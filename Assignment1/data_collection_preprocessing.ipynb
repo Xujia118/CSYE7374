{
 "cells": [
  {
   "cell_type": "markdown",
   "metadata": {
    "id": "ntE4VsBkrcFj"
   },
   "source": [
    "# Get dataset\n",
    "HuggingFace provides a lot of datasets. Let's choose wikipedia."
   ]
  },
  {
   "cell_type": "code",
   "execution_count": 2,
   "metadata": {},
   "outputs": [
    {
     "name": "stderr",
     "output_type": "stream",
     "text": [
      "/Users/jiaxu/Documents/ComputerScience/Class/CSYE7374/Assignment1/venv/lib/python3.12/site-packages/tqdm/auto.py:21: TqdmWarning: IProgress not found. Please update jupyter and ipywidgets. See https://ipywidgets.readthedocs.io/en/stable/user_install.html\n",
      "  from .autonotebook import tqdm as notebook_tqdm\n"
     ]
    }
   ],
   "source": [
    "import transformers, torch, datasets"
   ]
  },
  {
   "cell_type": "code",
   "execution_count": 3,
   "metadata": {
    "executionInfo": {
     "elapsed": 4613,
     "status": "ok",
     "timestamp": 1758037059487,
     "user": {
      "displayName": "jia xu",
      "userId": "17823170632814678079"
     },
     "user_tz": 420
    },
    "id": "_Vvkh7BdoxeZ"
   },
   "outputs": [],
   "source": [
    "from datasets import load_dataset, Dataset"
   ]
  },
  {
   "cell_type": "code",
   "execution_count": 4,
   "metadata": {
    "colab": {
     "base_uri": "https://localhost:8080/",
     "height": 379,
     "referenced_widgets": [
      "29e7cf9d24f247418aa87b3b3f33ec40",
      "7350c6eee6384a9a97a6ba4aab94563d",
      "bbbd8d7ff984496a9b950f02fdfa67d7",
      "5f9d61a4141c4622bc94a5c4f230951d",
      "08691e068c174b189961f716191b6168",
      "3ca6a65f100b4393bc93abf0b6d8f865",
      "afbb03557a764452b6a23c2c64cefa2e",
      "18f51b765246483daab4c599070f95aa",
      "3e4a9c56e09d4527a4135944ec218949",
      "1a1f27aece7f4e4780b9a70c130a4d69",
      "92a871d6fd6f447da6b1a65b0c130668",
      "5e72e34bae164565b96bdbb4c527cf92",
      "7471dcc3f45c4a4abf7e998aa65187a0",
      "95ae787387fe4fad84bc2c0fcde4f391",
      "2436cca54f5b4329aac1817bf2290cab",
      "3fe35649a808448a968816eeff525ac7",
      "a05d0cae7fef48a99a0a387deb8961a6",
      "db8d411f4e754da0914b829585ef1f64",
      "506c5c5a58ec4463a2bff679b904125a",
      "bb12b004f5a34bea92d461db669cb111",
      "0143bbf172ae4bc888be585f933211fb",
      "9be5f537b9c34d54b99c594cee28997b"
     ]
    },
    "executionInfo": {
     "elapsed": 9315,
     "status": "ok",
     "timestamp": 1758037068806,
     "user": {
      "displayName": "jia xu",
      "userId": "17823170632814678079"
     },
     "user_tz": 420
    },
    "id": "OzSRuUK5piNh",
    "outputId": "7646aba7-c7f7-4955-8cc7-d0fa486e0a11"
   },
   "outputs": [
    {
     "name": "stdout",
     "output_type": "stream",
     "text": [
      "Loading dataset in streaming mode: wikimedia/wikipedia with config 20231101.en\n",
      "Collecting approximately 150000 articles...\n",
      "Finished collecting 150000 articles.\n",
      "\n",
      "In-memory dataset loaded successfully.\n",
      "Dataset({\n",
      "    features: ['id', 'url', 'title', 'text'],\n",
      "    num_rows: 150000\n",
      "})\n",
      "Total number of articles in the dataset: 150000\n"
     ]
    }
   ],
   "source": [
    "dataset_name = \"wikimedia/wikipedia\"\n",
    "config_name = \"20231101.en\"\n",
    "\n",
    "# Load the dataset in streaming mode, this avoids downloading the whole file\n",
    "print(f\"Loading dataset in streaming mode: {dataset_name} with config {config_name}\")\n",
    "streaming_dataset = load_dataset(dataset_name, config_name, split=\"train\", streaming=True)\n",
    "\n",
    "# Collect articles until we have roughly 1GB data\n",
    "num_articles_to_collect = 150000\n",
    "subset_data = []\n",
    "\n",
    "print(f\"Collecting approximately {num_articles_to_collect} articles...\")\n",
    "for i, article in enumerate(streaming_dataset):\n",
    "    if i >= num_articles_to_collect:\n",
    "        break\n",
    "    subset_data.append(article)\n",
    "\n",
    "print(f\"Finished collecting {len(subset_data)} articles.\")\n",
    "\n",
    "# Convert the collected list of dictionaries into an in-memory Hugging Face Dataset\n",
    "raw_dataset = Dataset.from_list(subset_data)\n",
    "\n",
    "# You can now see the structure and size of your in-memory dataset\n",
    "print(\"\\nIn-memory dataset loaded successfully.\")\n",
    "print(raw_dataset)\n",
    "print(f\"Total number of articles in the dataset: {len(raw_dataset)}\")"
   ]
  },
  {
   "cell_type": "markdown",
   "metadata": {
    "id": "4QennKZBr26O"
   },
   "source": [
    "## Make sure we have 1GB of data"
   ]
  },
  {
   "cell_type": "code",
   "execution_count": 5,
   "metadata": {
    "colab": {
     "base_uri": "https://localhost:8080/"
    },
    "executionInfo": {
     "elapsed": 29,
     "status": "ok",
     "timestamp": 1758037068837,
     "user": {
      "displayName": "jia xu",
      "userId": "17823170632814678079"
     },
     "user_tz": 420
    },
    "id": "BeHw0LDQqtbZ",
    "outputId": "bd904d6c-2eed-452e-8dc1-a51a9602e79b"
   },
   "outputs": [
    {
     "name": "stdout",
     "output_type": "stream",
     "text": [
      "Total in-memory size of text: 1227035932 bytes\n",
      "Total size: 1170.19 MB\n",
      "Total size: 1.14 GB\n"
     ]
    }
   ],
   "source": [
    "import sys\n",
    "\n",
    "total_bytes = 0\n",
    "for article in raw_dataset:\n",
    "    text_content = article['text']\n",
    "    total_bytes += sys.getsizeof(text_content)\n",
    "\n",
    "# Convert bytes to megabytes (MB) and gigabytes (GB)\n",
    "total_mb = total_bytes / (1024 * 1024)\n",
    "total_gb = total_bytes / (1024 * 1024 * 1024)\n",
    "\n",
    "print(f\"Total in-memory size of text: {total_bytes} bytes\")\n",
    "print(f\"Total size: {total_mb:.2f} MB\")\n",
    "print(f\"Total size: {total_gb:.2f} GB\")"
   ]
  },
  {
   "cell_type": "markdown",
   "metadata": {
    "id": "qC-wuZdgMIq2"
   },
   "source": [
    "## Preprocess data"
   ]
  },
  {
   "cell_type": "code",
   "execution_count": 6,
   "metadata": {
    "colab": {
     "base_uri": "https://localhost:8080/"
    },
    "executionInfo": {
     "elapsed": 92,
     "status": "ok",
     "timestamp": 1758037068931,
     "user": {
      "displayName": "jia xu",
      "userId": "17823170632814678079"
     },
     "user_tz": 420
    },
    "id": "aFz74lO3h2dZ",
    "outputId": "3edc82c6-15fd-43b2-954d-178aeda037f8"
   },
   "outputs": [
    {
     "name": "stdout",
     "output_type": "stream",
     "text": [
      "Original number of documents: 150000\n",
      "Number of documents after removing duplicates: 149941\n"
     ]
    }
   ],
   "source": [
    "# Use the `unique` method to remove duplicates based on the 'text' column.\n",
    "# This method works well on smaller, in-memory datasets.\n",
    "print(f\"Original number of documents: {len(raw_dataset)}\")\n",
    "list_of_unique_documents = raw_dataset.unique(column='text')\n",
    "print(f\"Number of documents after removing duplicates: {len(list_of_unique_documents)}\")"
   ]
  },
  {
   "cell_type": "code",
   "execution_count": 7,
   "metadata": {
    "colab": {
     "base_uri": "https://localhost:8080/"
    },
    "executionInfo": {
     "elapsed": 3,
     "status": "ok",
     "timestamp": 1758037071703,
     "user": {
      "displayName": "jia xu",
      "userId": "17823170632814678079"
     },
     "user_tz": 420
    },
    "id": "XHTDOOOinalw",
    "outputId": "696d4f4c-ed2f-4859-8070-b911582b90ac"
   },
   "outputs": [
    {
     "name": "stdout",
     "output_type": "stream",
     "text": [
      "<class 'datasets.arrow_dataset.Dataset'>\n"
     ]
    }
   ],
   "source": [
    "# The unique method on a column returns a list of values (strings in this case),\n",
    "# not a list of dictionaries. Convert the list of strings back to a list of\n",
    "# dictionaries with a 'text' key for Dataset.from_list.\n",
    "list_of_unique_documents_as_dicts = [{'text': text} for text in list_of_unique_documents]\n",
    "unique_dataset = Dataset.from_list(list_of_unique_documents_as_dicts)\n",
    "print(type(unique_dataset))"
   ]
  },
  {
   "cell_type": "code",
   "execution_count": 8,
   "metadata": {
    "colab": {
     "base_uri": "https://localhost:8080/",
     "height": 170,
     "referenced_widgets": [
      "e557b4b88f024818bf388be291017dc6",
      "5c772b787af54e2e9e7340b0bbe43e8f",
      "484082e5c382471d88283d1eb93b4122",
      "a37e61cf4dd94107b2ffe03d898f1aec",
      "0a83e92517864e54a5cb26b4b792418b",
      "55539aa2091f4a929f8518ba71f0ace3",
      "4ab93777bf8c42d7ab3450d99c2c2b5d",
      "2cf71b5d152c43c682c179863ced5921",
      "27da70df97a944c39c48458b20b21147",
      "7b7de6efb7184ace8db011b7e4b9b4aa",
      "0e13dbf29c9f438dbb93ee34f3904cd8",
      "ab830f32abb94e92a365d2b7e381299a",
      "32776d83cc7d47c9a94cb92230bec4b4",
      "8ad542c6fb214d5797272176d53bcb6b",
      "0073791beeb94cabb136712fdf10ce50",
      "166dc5c44fe34c27a1007d9e8ece0f73",
      "c6114f34c513497bbd9c88f7eb984c3d",
      "cc159999fe27405bba246c65902c5f1c",
      "ecbe049b627d474f97b24ccdb778f823",
      "a78c291b0b79468db93a60239a442c02",
      "1e5d8bd475c94bcfb58a51651425e648",
      "ebfd498ed0764c3b9aa600d54c59151f"
     ]
    },
    "executionInfo": {
     "elapsed": 599,
     "status": "ok",
     "timestamp": 1758037710023,
     "user": {
      "displayName": "jia xu",
      "userId": "17823170632814678079"
     },
     "user_tz": 420
    },
    "id": "Gi_YlOROiCAz",
    "outputId": "0e75fad0-a43c-4a2e-9770-59e8d417ee42"
   },
   "outputs": [
    {
     "name": "stderr",
     "output_type": "stream",
     "text": [
      "Map: 100%|██████████| 150000/150000 [00:22<00:00, 6522.96 examples/s]\n",
      "Filter: 100%|██████████| 150000/150000 [00:03<00:00, 47194.79 examples/s]"
     ]
    },
    {
     "name": "stdout",
     "output_type": "stream",
     "text": [
      "Number of documents before filtering: 150000\n",
      "Number of documents after filtering: 142323\n",
      "First example after normalization:\n",
      "anarchism is a political philosophy and movement that is skeptical of all justifications for authority and seeks to abolish the institutions it claims maintain unnecessary coercion and hierarchy, typically including nation-states, and capitalism. anarchism advocates for the replacement of the state with stateless societies and voluntary free associations. as a historically left-wing movement, this reading of anarchism is placed on the farthest left of the political spectrum, usually described as the libertarian wing of the socialist movement libertarian socialism. humans have lived in societies without formal hierarchies long before the establishment of states, realms, or empires. with the rise of organised hierarchical bodies, scepticism toward authority also rose. although traces of anarchist ideas are found all throughout history, modern anarchism emerged from the enlightenment. during the latter half of the 19th and the first decades of the 20th century, the anarchist movement flourished in most parts of the world and had a significant role in workers' struggles for emancipation. various anarchist schools of thought formed during this period. anarchists have taken part in several revolutions, most notably in the paris commune, the russian civil war and the spanish civil war, whose end marked the end of the classical era of anarchism. in the last decades of the 20th and into the 21st century, the anarchist movement has been resurgent once more, growing in popularity and influence within anti-capitalist, anti-war and anti-globalisation movements. anarchists employ diverse approaches, which may be generally divided into revolutionary and evolutionary strategies; there is significant overlap between the two. evolutionary methods try to simulate what an anarchist society might be like, but revolutionary tactics, which have historically taken a violent turn, aim to overthrow authority and the state. many facets of human civilization have been influenced by anarchist theory, critique, and praxis. etymology, terminology, and definition the etymological origin of anarchism is from the ancient greek anarkhia, meaning without a ruler, composed of the prefix an- without and the word arkhos leader or ruler. the suffix -ism denotes the ideological current that favours anarchy. anarchism appears in english from 1642 as anarchisme and anarchy from 1539; early english usages emphasised a sense of disorder. various factions within the french revolution labelled their opponents as anarchists, although few such accused shared many views with later anarchists. many revolutionaries of the 19th century such as william godwin 17561836 and wilhelm weitling 18081871 would contribute to the anarchist doctrines of the next generation but did not use anarchist or anarchism in describing themselves or their beliefs. the first political philosopher to call himself an anarchist was pierre-joseph proudhon 18091865, marking the formal birth of anarchism in the mid-19th century. since the 1890s and beginning in france, libertarianism has often been used as a synonym for anarchism and its use as a synonym is still common outside the united states. some usages of libertarianism refer to individualistic free-market philosophy only, and free-market anarchism in particular is termed libertarian anarchism. while the term libertarian has been largely synonymous with anarchism, its meaning has more recently been diluted by wider adoption from ideologically disparate groups, including both the new left and libertarian marxists, who do not associate themselves with authoritarian socialists or a vanguard party, and extreme cultural liberals, who are primarily concerned with civil liberties. additionally, some anarchists use libertarian socialist to avoid anarchism's negative connotations and emphasise its connections with socialism. anarchism is broadly used to describe the anti-authoritarian wing of the socialist movement. anarchism is contrasted to socialist forms which are state-oriented or from above. scholars of anarchism generally highlight anarchism's socialist credentials and criticise attempts at creating dichotomies between the two. some scholars describe anarchism as having many influences from liberalism, and being both liberal and socialist but more so. many scholars reject anarcho-capitalism as a misunderstanding of anarchist principles. while opposition to the state is central to anarchist thought, defining anarchism is not an easy task for scholars, as there is a lot of discussion among scholars and anarchists on the matter, and various currents perceive anarchism slightly differently. major definitional elements include the will for a non-coercive society, the rejection of the state apparatus, the belief that human nature allows humans to exist in or progress toward such a non-coercive society, and a suggestion on how to act to pursue the ideal of anarchy. history pre-modern era before the creation of towns and cities, established authority did not exist. it was after the institution of authority that anarchistic ideas were espoused as a reaction. the most notable precursors to anarchism in the ancient world were in china and greece. in china, philosophical anarchism the discussion on the legitimacy of the state was delineated by taoist philosophers zhuang zhou and laozi. alongside stoicism, taoism has been said to have had significant anticipations of anarchism. anarchic attitudes were also articulated by tragedians and philosophers in greece. aeschylus and sophocles used the myth of antigone to illustrate the conflict between laws imposed by the state and personal autonomy. socrates questioned athenian authorities constantly and insisted on the right of individual freedom of conscience. cynics dismissed human law nomos and associated authorities while trying to live according to nature physis. stoics were supportive of a society based on unofficial and friendly relations among its citizens without the presence of a state. in medieval europe, there was no anarchistic activity except some ascetic religious movements. these, and other muslim movements, later gave birth to religious anarchism. in the sasanian empire, mazdak called for an egalitarian society and the abolition of monarchy, only to be soon executed by emperor kavad i. in basra, religious sects preached against the state. in europe, various sects developed anti-state and libertarian tendencies. renewed interest in antiquity during the renaissance and in private judgment during the reformation restored elements of anti-authoritarian secularism, particularly in france. enlightenment challenges to intellectual authority secular and religious and the revolutions of the 1790s and 1848 all spurred the ideological development of what became the era of classical anarchism. modern era during the french revolution, partisan groups such as the enrags and the saw a turning point in the fermentation of anti-state and federalist sentiments. the first anarchist currents developed throughout the 18th century as william godwin espoused philosophical anarchism in england, morally delegitimising the state, max stirner's thinking paved the way to individualism and pierre-joseph proudhon's theory of mutualism found fertile soil in france. by the late 1870s, various anarchist schools of thought had become well-defined and a wave of then unprecedented globalisation occurred from 1880 to 1914. this era of classical anarchism lasted until the end of the spanish civil war and is considered the golden age of anarchism. drawing from mutualism, mikhail bakunin founded collectivist anarchism and entered the international workingmen's association, a class worker union later known as the first international that formed in 1864 to unite diverse revolutionary currents. the international became a significant political force, with karl marx being a leading figure and a member of its general council. bakunin's faction the jura federation and proudhon's followers the mutualists opposed state socialism, advocating political abstentionism and small property holdings. after bitter disputes, the bakuninists were expelled from the international by the marxists at the 1872 hague congress. anarchists were treated similarly in the second international, being ultimately expelled in 1896. bakunin famously predicted that if revolutionaries gained power by marx's terms, they would end up the new tyrants of workers. in response to their expulsion from the first international, anarchists formed the st. imier international. under the influence of peter kropotkin, a russian philosopher and scientist, anarcho-communism overlapped with collectivism. anarcho-communists, who drew inspiration from the 1871 paris commune, advocated for free federation and for the distribution of goods according to one's needs. by the turn of the 20th century, anarchism had spread all over the world. it was a notable feature of the international syndicalist movement. in china, small groups of students imported the humanistic pro-science version of anarcho-communism. tokyo was a hotspot for rebellious youth from east asian countries, who moved to the japanese capital to study. in latin america, argentina was a stronghold for anarcho-syndicalism, where it became the most prominent left-wing ideology. during this time, a minority of anarchists adopted tactics of revolutionary political violence, known as propaganda of the deed. the dismemberment of the french socialist movement into many groups and the execution and exile of many communards to penal colonies following the suppression of the paris commune favoured individualist political expression and acts. even though many anarchists distanced themselves from these terrorist acts, infamy came upon the movement and attempts were made to prevent anarchists immigrating to the us, including the immigration act of 1903, also called the anarchist exclusion act. illegalism was another strategy which some anarchists adopted during this period. despite concerns, anarchists enthusiastically participated in the russian revolution in opposition to the white movement, especially in the makhnovshchina; however, they met harsh suppression after the bolshevik government had stabilised, including during the kronstadt rebellion. several anarchists from petrograd and moscow fled to ukraine, before the bolsheviks crushed the anarchist movement there too. with the anarchists being repressed in russia, two new antithetical currents emerged, namely platformism and synthesis anarchism. the former sought to create a coherent group that would push for revolution while the latter were against anything that would resemble a political party. seeing the victories of the bolsheviks in the october revolution and the resulting russian civil war, many workers and activists turned to communist parties which grew at the expense of anarchism and other socialist movements. in france and the united states, members of major syndicalist movements such as the general confederation of labour and the industrial workers of the world left their organisations and joined the communist international. in the spanish civil war of 193639, anarchists and syndicalists cnt and fai once again allied themselves with various currents of leftists. a long tradition of spanish anarchism led to anarchists playing a pivotal role in the war, and particularly in the spanish revolution of 1936. in response to the army rebellion, an anarchist-inspired movement of peasants and workers, supported by armed militias, took control of barcelona and of large areas of rural spain, where they collectivised the land. the soviet union provided some limited assistance at the beginning of the war, but the result was a bitter fight between communists and other leftists in a series of events known as the may days, as joseph stalin asserted soviet control of the republican government, ending in another defeat of anarchists at the hands of the communists. post-wwii by the end of world war ii, the anarchist movement had been severely weakened. the 1960s witnessed a revival of anarchism, likely caused by a perceived failure of marxismleninism and tensions built by the cold war. during this time, anarchism found a presence in other movements critical towards both capitalism and the state such as the anti-nuclear, environmental, and peace movements, the counterculture of the 1960s, and the new left. it also saw a transition from its previous revolutionary nature to provocative anti-capitalist reformism. anarchism became associated with punk subculture as exemplified by bands such as crass and the sex pistols. the established feminist tendencies of anarcha-feminism returned with vigour during the second wave of feminism. black anarchism began to take form at this time and influenced anarchism's move from a eurocentric demographic. this coincided with its failure to gain traction in northern europe and its unprecedented height in latin america. around the turn of the 21st century, anarchism grew in popularity and influence within anti-capitalist, anti-war and anti-globalisation movements. anarchists became known for their involvement in protests against the world trade organization wto, the group of eight and the world economic forum. during the protests, ad hoc leaderless anonymous cadres known as black blocs engaged in rioting, property destruction and violent confrontations with the police. other organisational tactics pioneered at this time include affinity groups, security culture and the use of decentralised technologies such as the internet. a significant event of this period was the confrontations at the 1999 seattle wto conference. anarchist ideas have been influential in the development of the zapatistas in mexico and the democratic federation of northern syria, more commonly known as rojava, a de facto autonomous region in northern syria. while having revolutionary aspirations, many forms of anarchism are not confrontational nowadays. instead, they are trying to build an alternative way of social organization, based on mutual interdependence and voluntary cooperation. scholar carissa honeywell takes the example of food not bombs group of collectives, to highlight some features of how anarchist groups work: direct action, working together and in solidarity with those left behind. while doing so, they inform about the rising rates of world hunger suggest a policy to tackle hunger, ranging from de-funding the arms industry to addressing monsanto seed-saving policies and patents, helping farmers and commodification of food and housing. honeywell also emphasizes that contemporary anarchists are interested in the flourishing not only of humans, but non-humans and the environment as well. honeywell argues that escalation of problems such as continuous wars and world poverty show that the current framework not only cannot solve those pressing problems for humanity, but are causal factors as well, resulting in the rejection of representative democracy and the state as a whole. thought anarchist schools of thought have been generally grouped into two main historical traditions, social anarchism and individualist anarchism, owing to their different origins, values and evolution. the individualist current emphasises negative liberty in opposing restraints upon the free individual, while the social current emphasises positive liberty in aiming to achieve the free potential of society through equality and social ownership. in a chronological sense, anarchism can be segmented by the classical currents of the late 19th century and the post-classical currents anarcha-feminism, green anarchism, and post-anarchism developed thereafter. beyond the specific factions of anarchist movements which constitute political anarchism lies philosophical anarchism which holds that the state lacks moral legitimacy, without necessarily accepting the imperative of revolution to eliminate it. a component especially of individualist anarchism, philosophical anarchism may tolerate the existence of a minimal state but claims that citizens have no moral obligation to obey government when it conflicts with individual autonomy. anarchism pays significant attention to moral arguments since ethics have a central role in anarchist philosophy. anarchism's emphasis on anti-capitalism, egalitarianism, and for the extension of community and individuality sets it apart from anarcho-capitalism and other types of economic libertarianism. anarchism is usually placed on the far-left of the political spectrum. much of its economics and legal philosophy reflect anti-authoritarian, anti-statist, libertarian, and radical interpretations of left-wing and socialist politics such as collectivism, communism, individualism, mutualism, and syndicalism, among other libertarian socialist economic theories. as anarchism does not offer a fixed body of doctrine from a single particular worldview, many anarchist types and traditions exist and varieties of anarchy diverge widely. one reaction against sectarianism within the anarchist milieu was anarchism without adjectives, a call for toleration and unity among anarchists first adopted by fernando tarrida del mrmol in 1889 in response to the bitter debates of anarchist theory at the time. belief in political nihilism has been espoused by anarchists. despite separation, the various anarchist schools of thought are not seen as distinct entities but rather as tendencies that intermingle and are connected through a set of uniform principles such as individual and local autonomy, mutual aid, network organisation, communal democracy, justified authority and decentralisation. classical inceptive currents among classical anarchist currents were mutualism and individualism. they were followed by the major currents of social anarchism collectivist, communist and syndicalist. they differ on organisational and economic aspects of their ideal society. mutualism is an 18th-century economic theory that was developed into anarchist theory by pierre-joseph proudhon. its aims include abolishing the state, reciprocity, free association, voluntary contract, federation and monetary reform of both credit and currency that would be regulated by a bank of the people. mutualism has been retrospectively characterised as ideologically situated between individualist and collectivist forms of anarchism. in what is property? 1840, proudhon first characterised his goal as a third form of society, the synthesis of communism and property. collectivist anarchism is a revolutionary socialist form of anarchism commonly associated with mikhail bakunin. collectivist anarchists advocate collective ownership of the means of production which is theorised to be achieved through violent revolution and that workers be paid according to time worked, rather than goods being distributed according to need as in communism. collectivist anarchism arose alongside marxism but rejected the dictatorship of the proletariat despite the stated marxist goal of a collectivist stateless society. anarcho-communism is a theory of anarchism that advocates a communist society with common ownership of the means of production, held by a federal network of voluntary associations, with production and consumption based on the guiding principle from each according to his ability, to each according to his need. anarcho-communism developed from radical socialist currents after the french revolution but was first formulated as such in the italian section of the first international. it was later expanded upon in the theoretical work of peter kropotkin, whose specific style would go onto become the dominating view of anarchists by the late 19th century. anarcho-syndicalism is a branch of anarchism that views labour syndicates as a potential force for revolutionary social change, replacing capitalism and the state with a new society democratically self-managed by workers. the basic principles of anarcho-syndicalism are direct action, workers' solidarity and workers' self-management. individualist anarchism is a set of several traditions of thought within the anarchist movement that emphasise the individual and their will over any kinds of external determinants. early influences on individualist forms of anarchism include william godwin, max stirner, and henry david thoreau. through many countries, individualist anarchism attracted a small yet diverse following of bohemian artists and intellectuals as well as young anarchist outlaws in what became known as illegalism and individual reclamation. post-classical and contemporary anarchist principles undergird contemporary radical social movements of the left. interest in the anarchist movement developed alongside momentum in the anti-globalisation movement, whose leading activist networks were anarchist in orientation. as the movement shaped 21st century radicalism, wider embrace of anarchist principles signaled a revival of interest. anarchism has continued to generate many philosophies and movements, at times eclectic, drawing upon various sources and combining disparate concepts to create new philosophical approaches. the anti-capitalist tradition of classical anarchism has remained prominent within contemporary currents. contemporary news coverage which emphasizes black bloc demonstrations has reinforced anarchism's historical association with chaos and violence. its publicity has also led more scholars in fields such as anthropology and history to engage with the anarchist movement, although contemporary anarchism favours actions over academic theory. various anarchist groups, tendencies, and schools of thought exist today, making it difficult to describe the contemporary anarchist movement. while theorists and activists have established relatively stable constellations of anarchist principles, there is no consensus on which principles are core and commentators describe multiple anarchisms, rather than a singular anarchism, in which common principles are shared between schools of anarchism while each group prioritizes those principles differently. gender equality can be a common principle, although it ranks as a higher priority to anarcha-feminists than anarcho-communists. anarchists are generally committed against coercive authority in all forms, namely all centralized and hierarchical forms of government e.g., monarchy, representative democracy, state socialism, etc., economic class systems e.g., capitalism, bolshevism, feudalism, slavery, etc., autocratic religions e.g., fundamentalist islam, roman catholicism, etc., patriarchy, heterosexism, white supremacy, and imperialism. anarchist schools disagree on the methods by which these forms should be opposed. the principle of equal liberty is closer to anarchist political ethics in that it transcends both the liberal and socialist traditions. this entails that liberty and equality cannot be implemented within the state, resulting in the questioning of all forms of domination and hierarchy. tactics anarchists' tactics take various forms but in general serve two major goals, namely, to first oppose the establishment and secondly to promote anarchist ethics and reflect an anarchist vision of society, illustrating the unity of means and ends. a broad categorisation can be made between aims to destroy oppressive states and institutions by revolutionary means on one hand and aims to change society through evolutionary means on the other. evolutionary tactics embrace nonviolence, reject violence and take a gradual approach to anarchist aims, although there is significant overlap between the two. anarchist tactics have shifted during the course of the last century. anarchists during the early 20th century focused more on strikes and militancy while contemporary anarchists use a broader array of approaches. classical era during the classical era, anarchists had a militant tendency. not only did they confront state armed forces, as in spain and ukraine, but some of them also employed terrorism as propaganda of the deed. assassination attempts were carried out against heads of state, some of which were successful. anarchists also took part in revolutions. many anarchists, especially the galleanists, believed that these attempts would be the impetus for a revolution against capitalism and the state. many of these attacks were done by individual assailants and the majority took place in the late 1870s, the early 1880s and the 1890s, with some still occurring in the early 1900s. their decrease in prevalence was the result of further judicial power and targeting and cataloging by state institutions. anarchist perspectives towards violence have always been controversial. anarcho-pacifists advocate for non-violence means to achieve their stateless, nonviolent ends. other anarchist groups advocate direct action, a tactic which can include acts of sabotage or terrorism. this attitude was quite prominent a century ago when seeing the state as a tyrant and some anarchists believing that they had every right to oppose its oppression by any means possible. emma goldman and errico malatesta, who were proponents of limited use of violence, stated that violence is merely a reaction to state violence as a necessary evil. anarchists took an active role in strike actions, although they tended to be antipathetic to formal syndicalism, seeing it as reformist. they saw it as a part of the movement which sought to overthrow the state and capitalism. anarchists also reinforced their propaganda within the arts, some of whom practiced naturism and nudism. those anarchists also built communities which were based on friendship and were involved in the news media. revolutionary in the current era, italian anarchist alfredo bonanno, a proponent of insurrectionary anarchism, has reinstated the debate on violence by rejecting the nonviolence tactic adopted since the late 19th century by kropotkin and other prominent anarchists afterwards. both bonanno and the french group the invisible committee advocate for small, informal affiliation groups, where each member is responsible for their own actions but works together to bring down oppression utilizing sabotage and other violent means against state, capitalism, and other enemies. members of the invisible committee were arrested in 2008 on various charges, terrorism included. overall, contemporary anarchists are much less violent and militant than their ideological ancestors. they mostly engage in confronting the police during demonstrations and riots, especially in countries such as canada, greece, and mexico. militant black bloc protest groups are known for clashing with the police; however, anarchists not only clash with state operators, they also engage in the struggle against fascists and racists, taking anti-fascist action and mobilizing to prevent hate rallies from happening. evolutionary anarchists commonly employ direct action. this can take the form of disrupting and protesting against unjust hierarchy, or the form of self-managing their lives through the creation of counter-institutions such as communes and non-hierarchical collectives. decision-making is often handled in an anti-authoritarian way, with everyone having equal say in each decision, an approach known as horizontalism. contemporary-era anarchists have been engaging with various grassroots movements that are more or less based on horizontalism, although not explicitly anarchist, respecting personal autonomy and participating in mass activism such as strikes and demonstrations. in contrast with the big-a anarchism of the classical era, the newly coined term small-a anarchism signals their tendency not to base their thoughts and actions on classical-era anarchism or to refer to classical anarchists such as peter kropotkin and pierre-joseph proudhon to justify their opinions. those anarchists would rather base their thought and praxis on their own experience which they will later theorize. the decision-making process of small anarchist affinity groups plays a significant tactical role. anarchists have employed various methods in order to build a rough consensus among members of their group without the need of a leader or a leading group. one way is for an individual from the group to play the role of facilitator to help achieve a consensus without taking part in the discussion themselves or promoting a specific point. minorities usually accept rough consensus, except when they feel the proposal contradicts anarchist ethics, goals and values. anarchists usually form small groups 520 individuals to enhance autonomy and friendships among their members. these kinds of groups more often than not interconnect with each other, forming larger networks. anarchists still support and participate in strikes, especially wildcat strikes as these are leaderless strikes not organised centrally by a syndicate. as in the past, newspapers and journals are used, and anarchists have gone online in the world wide web to spread their message. anarchists have found it easier to create websites because of distributional and other difficulties, hosting electronic libraries and other portals. anarchists were also involved in developing various software that are available for free. the way these hacktivists work to develop and distribute resembles the anarchist ideals, especially when it comes to preserving users' privacy from state surveillance. anarchists organize themselves to squat and reclaim public spaces. during important events such as protests and when spaces are being occupied, they are often called temporary autonomous zones taz, spaces where art, poetry, and surrealism are blended to display the anarchist ideal. as seen by anarchists, squatting is a way to regain urban space from the capitalist market, serving pragmatical needs and also being an exemplary direct action. acquiring space enables anarchists to experiment with their ideas and build social bonds. adding up these tactics while having in mind that not all anarchists share the same attitudes towards them, along with various forms of protesting at highly symbolic events, make up a carnivalesque atmosphere that is part of contemporary anarchist vividity. key issues as anarchism is a philosophy that embodies many diverse attitudes, tendencies, and schools of thought; disagreement over questions of values, ideology, and tactics is common. its diversity has led to widely different uses of identical terms among different anarchist traditions which has created a number of definitional concerns in anarchist theory. the compatibility of capitalism, nationalism, and religion with anarchism is widely disputed, and anarchism enjoys complex relationships with ideologies such as communism, collectivism, marxism, and trade unionism. anarchists may be motivated by humanism, divine authority, enlightened self-interest, veganism, or any number of alternative ethical doctrines. phenomena such as civilisation, technology e.g. within anarcho-primitivism, and the democratic process may be sharply criticised within some anarchist tendencies and simultaneously lauded in others. the state objection to the state and its institutions is a sine qua non of anarchism. anarchists consider the state as a tool of domination and believe it to be illegitimate regardless of its political tendencies. instead of people being able to control the aspects of their life, major decisions are taken by a small elite. authority ultimately rests solely on power, regardless of whether that power is open or transparent, as it still has the ability to coerce people. another anarchist argument against states is that the people constituting a government, even the most altruistic among officials, will unavoidably seek to gain more power, leading to corruption. anarchists consider the idea that the state is the collective will of the people to be an unachievable fiction due to the fact that the ruling class is distinct from the rest of society. specific anarchist attitudes towards the state vary. robert paul wolff believed that the tension between authority and autonomy would mean the state could never be legitimate. bakunin saw the state as meaning coercion, domination by means of coercion, camouflaged if possible but unceremonious and overt if need be. a. john simmons and leslie green, who leaned toward philosophical anarchism, believed that the state could be legitimate if it is governed by consensus, although they saw this as highly unlikely. beliefs on how to abolish the state also differ. gender, sexuality, and free love as gender and sexuality carry along them dynamics of hierarchy, many anarchists address, analyse, and oppose the suppression of one's autonomy imposed by gender roles. sexuality was not often discussed by classical anarchists but the few that did felt that an anarchist society would lead to sexuality naturally developing. sexual violence was a concern for anarchists such as benjamin tucker, who opposed age of consent laws, believing they would benefit predatory men. a historical current that arose and flourished during 1890 and 1920 within anarchism was free love. in contemporary anarchism, this current survives as a tendency to support polyamory, relationship anarchy, and queer anarchism. free love advocates were against marriage, which they saw as a way of men imposing authority over women, largely because marriage law greatly favoured the power of men. the notion of free love was much broader and included a critique of the established order that limited women's sexual freedom and pleasure. those free love movements contributed to the establishment of communal houses, where large groups of travelers, anarchists and other activists slept in beds together. free love had roots both in europe and the united states; however, some anarchists struggled with the jealousy that arose from free love. anarchist feminists were advocates of free love, against marriage, and pro-choice utilising a contemporary term, and had a similar agenda. anarchist and non-anarchist feminists differed on suffrage but were supportive of one another. during the second half of the 20th century, anarchism intermingled with the second wave of feminism, radicalising some currents of the feminist movement and being influenced as well. by the latest decades of the 20th century, anarchists and feminists were advocating for the rights and autonomy of women, gays, queers and other marginalised groups, with some feminist thinkers suggesting a fusion of the two currents. with the third wave of feminism, sexual identity and compulsory heterosexuality became a subject of study for anarchists, yielding a post-structuralist critique of sexual normality. some anarchists distanced themselves from this line of thinking, suggesting that it leaned towards an individualism that was dropping the cause of social liberation. education the interest of anarchists in education stretches back to the first emergence of classical anarchism. anarchists consider proper education, one which sets the foundations of the future autonomy of the individual and the society, to be an act of mutual aid. anarchist writers such as william godwin political justice and max stirner the false principle of our education attacked both state education and private education as another means by which the ruling class replicate their privileges. in 1901, catalan anarchist and free thinker francisco ferrer established the escuela moderna in barcelona as an opposition to the established education system which was dictated largely by the catholic church. ferrer's approach was secular, rejecting both state and church involvement in the educational process whilst giving pupils large amounts of autonomy in planning their work and attendance. ferrer aimed to educate the working class and explicitly sought to foster class consciousness among students. the school closed after constant harassment by the state and ferrer was later arrested. nonetheless, his ideas formed the inspiration for a series of modern schools around the world. christian anarchist leo tolstoy, who published the essay education and culture, also established a similar school with its founding principle being that for education to be effective it had to be free. in a similar token, a. s. neill founded what became the summerhill school in 1921, also declaring being free from coercion. anarchist education is based largely on the idea that a child's right to develop freely and without manipulation ought to be respected and that rationality would lead children to morally good conclusions; however, there has been little consensus among anarchist figures as to what constitutes manipulation. ferrer believed that moral indoctrination was necessary and explicitly taught pupils that equality, liberty and social justice were not possible under capitalism, along with other critiques of government and nationalism. late 20th century and contemporary anarchist writers paul goodman, herbert read, and colin ward intensified and expanded the anarchist critique of state education, largely focusing on the need for a system that focuses on children's creativity rather than on their ability to attain a career or participate in consumerism as part of a consumer society. contemporary anarchists such as ward claim that state education serves to perpetuate socioeconomic inequality. while few anarchist education institutions have survived to the modern-day, major tenets of anarchist schools, among them respect for child autonomy and relying on reasoning rather than indoctrination as a teaching method, have spread among mainstream educational institutions. judith suissa names three schools as explicitly anarchists' schools, namely the free skool santa cruz in the united states which is part of a wider american-canadian network of schools, the self-managed learning college in brighton, england, and the paideia school in spain. the arts the connection between anarchism and art was quite profound during the classical era of anarchism, especially among artistic currents that were developing during that era such as futurists, surrealists and others. in literature, anarchism was mostly associated with the new apocalyptics and the neo-romanticism movement. in music, anarchism has been associated with music scenes such as punk. anarchists such as leo tolstoy and herbert read stated that the border between the artist and the non-artist, what separates art from a daily act, is a construct produced by the alienation caused by capitalism and it prevents humans from living a joyful life. other anarchists advocated for or used art as a means to achieve anarchist ends. in his book breaking the spell: a history of anarchist filmmakers, videotape guerrillas, and digital ninjas, chris rob claims that anarchist-inflected practices have increasingly structured movement-based video activism. throughout the 20th century, many prominent anarchists peter kropotkin, emma goldman, gustav landauer and camillo berneri and publications such as anarchy wrote about matters pertaining to the arts. three overlapping properties made art useful to anarchists. it could depict a critique of existing society and hierarchies, serve as a prefigurative tool to reflect the anarchist ideal society and even turn into a means of direct action such as in protests. as it appeals to both emotion and reason, art could appeal to the whole human and have a powerful effect. the 19th-century neo-impressionist movement had an ecological aesthetic and offered an example of an anarchist perception of the road towards socialism. in les chataigniers a osny by anarchist painter camille pissarro, the blending of aesthetic and social harmony is prefiguring an ideal anarchistic agrarian community. criticism the most common critique of anarchism is the assertion that humans cannot self-govern and so a state is necessary for human survival. philosopher bertrand russell supported this critique, stating that peace and war, tariffs, regulations of sanitary conditions and the sale of noxious drugs, the preservation of a just system of distribution: these, among others, are functions which could hardly be performed in a community in which there was no central government. another common criticism of anarchism is that it fits a world of isolation in which only the small enough entities can be self-governing; a response would be that major anarchist thinkers advocated anarchist federalism. another criticism of anarchism is the belief that it is inherently unstable: that an anarchist society would inevitably evolve back into a state. thomas hobbes and other early social contract theorists argued that the state emerges in response to natural anarchy in order to protect the people's interests and keep order. philosopher robert nozick argued that a night-watchman state, or minarchy, would emerge from anarchy through the process of an invisible hand, in which people would exercise their liberty and buy protection from protection agencies, evolving into a minimal state. anarchists reject these criticisms by arguing that humans in a state of nature would not just be in a state of war. anarcho-primitivists in particular argue that humans were better off in a state of nature in small tribes living close to the land, while anarchists in general argue that the negatives of state organization, such as hierarchies, monopolies and inequality, outweigh the benefits. philosophy lecturer andrew g. fiala composed a list of common arguments against anarchism which includes critiques such as that anarchism is innately related to violence and destruction, not only in the pragmatic world, such as at protests, but in the world of ethics as well. secondly, anarchism is evaluated as unfeasible or utopian since the state cannot be defeated practically. this line of arguments most often calls for political action within the system to reform it. the third argument is that anarchism is self-contradictory as a ruling theory that has no ruling theory. anarchism also calls for collective action whilst endorsing the autonomy of the individual, hence no collective action can be taken. lastly, fiala mentions a critique towards philosophical anarchism of being ineffective all talk and thoughts and in the meantime capitalism and bourgeois class remains strong. philosophical anarchism has met the criticism of members of academia following the release of pro-anarchist books such as a. john simmons' moral principles and political obligations. law professor william a. edmundson authored an essay to argue against three major philosophical anarchist principles which he finds fallacious. edmundson says that while the individual does not owe the state a duty of obedience, this does not imply that anarchism is the inevitable conclusion and the state is still morally legitimate. in the problem of political authority, michael huemer defends philosophical anarchism, claiming that political authority is a moral illusion. one of the earliest criticisms is that anarchism defies and fails to understand the biological inclination to authority. joseph raz states that the acceptance of authority implies the belief that following their instructions will afford more success. raz believes that this argument is true in following both authorities' successful and mistaken instruction. anarchists reject this criticism because challenging or disobeying authority does not entail the disappearance of its advantages by acknowledging authority such as doctors or lawyers as reliable, nor does it involve a complete surrender of independent judgment. anarchist perception of human nature, rejection of the state, and commitment to social revolution has been criticised by academics as naive, overly simplistic, and unrealistic, respectively. classical anarchism has been criticised for relying too heavily on the belief that the abolition of the state will lead to human cooperation prospering. friedrich engels, considered to be one of the principal founders of marxism, criticised anarchism's anti-authoritarianism as inherently counter-revolutionary because in his view a revolution is by itself authoritarian. academic john molyneux writes in his book anarchism: a marxist criticism that anarchism cannot win, believing that it lacks the ability to properly implement its ideas. the marxist criticism of anarchism is that it has a utopian character because all individuals should have anarchist views and values. according to the marxist view, that a social idea would follow directly from this human ideal and out of the free will of every individual formed its essence. marxists state that this contradiction was responsible for their inability to act. in the anarchist vision, the conflict between liberty and equality was resolved through coexistence and intertwining. see also anarchism by country governance without government list of anarchist political ideologies list of books about anarchism references explanatory notes citations general and cited sources primary sources secondary sources tertiary sources further reading criticism of philosophical anarchism. a defence of philosophical anarchism, stating that both kinds of 'anarchism' i.e. philosophical and political anarchism are philosophical and political claims. p. 137 anarchistic popular fiction novel. an argument for philosophical anarchism. external links anarchy archives an online research center on the history and theory of anarchism. anti-capitalism anti-fascism economic ideologies far-left politics left-wing politics libertarian socialism libertarianism political culture political ideologies political movements social theories socialism\n"
     ]
    },
    {
     "name": "stderr",
     "output_type": "stream",
     "text": [
      "\n"
     ]
    }
   ],
   "source": [
    "import re\n",
    "from datasets import Dataset\n",
    "\n",
    "def clean_and_normalize(examples):\n",
    "    cleaned_texts = []\n",
    "\n",
    "    for text in examples['text']:\n",
    "        # Step 1: Optional - Remove HTML tags and markdown\n",
    "        text = re.sub(r'<[^>]+>', '', text)  # Remove HTML tags\n",
    "        text = re.sub(r'\\[\\[[^\\]]+\\]\\]', '', text) # Remove wiki-internal links\n",
    "\n",
    "        # Step 2: Lowercase the entire text\n",
    "        text = text.lower()\n",
    "\n",
    "        # Step 3: Strip irrelevant symbols and normalize\n",
    "        text = re.sub(r'[^a-z0-9\\s.,?!;:\\'-]', '', text)\n",
    "\n",
    "        # Step 4: Remove extra whitespace\n",
    "        text = re.sub(r'\\s+', ' ', text).strip()\n",
    "\n",
    "        cleaned_texts.append(text)\n",
    "\n",
    "    examples['text'] = cleaned_texts\n",
    "    return examples\n",
    "\n",
    "def filter_short_documents(examples):\n",
    "    return [len(text.split()) >= 50 for text in examples['text']]\n",
    "\n",
    "# Apply the cleaning and normalization function using map\n",
    "# batched=True processes multiple examples at once for speed\n",
    "normalized_dataset = raw_dataset.map(clean_and_normalize, batched=True)\n",
    "\n",
    "# Apply the filtering function to remove short documents\n",
    "filtered_dataset = normalized_dataset.filter(filter_short_documents, batched=True)\n",
    "\n",
    "print(\"Number of documents before filtering:\", len(normalized_dataset))\n",
    "print(\"Number of documents after filtering:\", len(filtered_dataset))\n",
    "\n",
    "print(\"First example after normalization:\")\n",
    "print(normalized_dataset[0]['text'])"
   ]
  },
  {
   "cell_type": "markdown",
   "metadata": {
    "id": "aQdim4M5OAA0"
   },
   "source": [
    "# Tokenization"
   ]
  },
  {
   "cell_type": "code",
   "execution_count": 9,
   "metadata": {
    "executionInfo": {
     "elapsed": 223,
     "status": "ok",
     "timestamp": 1758038186760,
     "user": {
      "displayName": "jia xu",
      "userId": "17823170632814678079"
     },
     "user_tz": 420
    },
    "id": "aTBWPedrktik"
   },
   "outputs": [],
   "source": [
    "# Load the tokenizer\n",
    "\n",
    "from transformers import AutoTokenizer\n",
    "\n",
    "model_name = \"bert-base-uncased\"\n",
    "tokenizer = AutoTokenizer.from_pretrained(model_name)"
   ]
  },
  {
   "cell_type": "code",
   "execution_count": 10,
   "metadata": {
    "colab": {
     "base_uri": "https://localhost:8080/",
     "height": 49,
     "referenced_widgets": [
      "97dc8b268a0943a396f20303543c41a4",
      "e8449db7c46240139b812618cc6f9ce6",
      "2a499642443047b09deaeff83b5c6a67",
      "eeb8ba9bfe2749aab1c255c4784d5c92",
      "9f32da215b6d42c4bac5709d5fe0ca9d",
      "9ecb72a7b12f403dbe9e45fc2e9373a9",
      "28abaa5b0b0746b3a075543117c51795",
      "8b14c89bb7a74a809898e8848d8ca45a",
      "f65933b08f0c4b37b44428b311810329",
      "f6f23b0a09fe434bbc6b4046e618b461",
      "3cbd639b662f495b9bdccd0a07193183"
     ]
    },
    "executionInfo": {
     "elapsed": 4658,
     "status": "ok",
     "timestamp": 1758040040468,
     "user": {
      "displayName": "jia xu",
      "userId": "17823170632814678079"
     },
     "user_tz": 420
    },
    "id": "7wndhg9UOpgK",
    "outputId": "b2ee4b59-3eea-4675-ec2a-9b821feeb4e0"
   },
   "outputs": [
    {
     "name": "stderr",
     "output_type": "stream",
     "text": [
      "Map: 100%|██████████| 142323/142323 [01:35<00:00, 1493.92 examples/s]\n"
     ]
    }
   ],
   "source": [
    "# Tokenize the dataset and handle long sequences\n",
    "\n",
    "def tokenize_function(examples):\n",
    "    tokenized_chunks = tokenizer(\n",
    "        examples['text'],\n",
    "        truncation=True,\n",
    "        return_overflowing_tokens=True,\n",
    "        max_length=512,  # Set your desired chunk size (e.g., 512 for BERT)\n",
    "        stride=128  # Use a stride to create overlapping chunks and preserve context\n",
    "    )\n",
    "    return tokenized_chunks\n",
    "\n",
    "# Apply the chunking function to the dataset\n",
    "chunked_dataset = filtered_dataset.map(\n",
    "    tokenize_function,\n",
    "    batched=True,\n",
    "    remove_columns=filtered_dataset.column_names # Remove the old columns to prevent errors\n",
    ")"
   ]
  },
  {
   "cell_type": "code",
   "execution_count": 11,
   "metadata": {
    "colab": {
     "base_uri": "https://localhost:8080/"
    },
    "executionInfo": {
     "elapsed": 4,
     "status": "ok",
     "timestamp": 1758040042418,
     "user": {
      "displayName": "jia xu",
      "userId": "17823170632814678079"
     },
     "user_tz": 420
    },
    "id": "_EQOu5mzOpcN",
    "outputId": "b75b8643-6d87-4b52-8408-e0ace5edb447"
   },
   "outputs": [
    {
     "name": "stdout",
     "output_type": "stream",
     "text": [
      "Original number of examples: 142323\n",
      "Number of examples after chunking: 400654\n"
     ]
    }
   ],
   "source": [
    "print(f\"Original number of examples: {len(filtered_dataset)}\")\n",
    "print(f\"Number of examples after chunking: {len(chunked_dataset)}\")"
   ]
  },
  {
   "cell_type": "markdown",
   "metadata": {
    "id": "uoNiibI0Shvr"
   },
   "source": [
    "# Custom Data Loader"
   ]
  },
  {
   "cell_type": "code",
   "execution_count": 12,
   "metadata": {
    "colab": {
     "base_uri": "https://localhost:8080/"
    },
    "executionInfo": {
     "elapsed": 58,
     "status": "ok",
     "timestamp": 1758040161618,
     "user": {
      "displayName": "jia xu",
      "userId": "17823170632814678079"
     },
     "user_tz": 420
    },
    "id": "25fc5869",
    "outputId": "0197f38f-524e-463c-8e87-2b64e4c7666c"
   },
   "outputs": [
    {
     "name": "stderr",
     "output_type": "stream",
     "text": [
      "You're using a BertTokenizerFast tokenizer. Please note that with a fast tokenizer, using the `__call__` method is faster than using a method to encode the text followed by a call to the `pad` method to get a padded encoding.\n"
     ]
    },
    {
     "name": "stdout",
     "output_type": "stream",
     "text": [
      "Created PyTorch Dataset with 400654 examples.\n",
      "Created PyTorch DataLoader with batch size 16.\n",
      "\n",
      "Example batch from DataLoader:\n",
      "Input IDs shape: torch.Size([16, 512])\n",
      "Attention Mask shape: torch.Size([16, 512])\n"
     ]
    }
   ],
   "source": [
    "import torch\n",
    "from torch.utils.data import Dataset, DataLoader\n",
    "\n",
    "class WikipediaDataset(Dataset):\n",
    "    def __init__(self, dataset, tokenizer):\n",
    "        self.dataset = dataset\n",
    "        self.tokenizer = tokenizer\n",
    "\n",
    "    def __len__(self):\n",
    "        return len(self.dataset)\n",
    "\n",
    "    def __getitem__(self, idx):\n",
    "        # Extract input_ids and attention_mask from the dataset\n",
    "        item = self.dataset[idx]\n",
    "        # Convert lists to PyTorch tensors\n",
    "        return {\n",
    "            'input_ids': torch.tensor(item['input_ids'], dtype=torch.long),\n",
    "            'attention_mask': torch.tensor(item['attention_mask'], dtype=torch.long)\n",
    "        }\n",
    "\n",
    "# Create an instance of the custom dataset\n",
    "# Pass the tokenizer to the dataset\n",
    "pytorch_dataset = WikipediaDataset(chunked_dataset, tokenizer)\n",
    "\n",
    "\n",
    "# Define a custom collate function to handle padding\n",
    "def custom_collate_fn(batch):\n",
    "    # Use the tokenizer's padding function\n",
    "    padded_batch = tokenizer.pad(batch, return_tensors='pt')\n",
    "    return padded_batch\n",
    "\n",
    "\n",
    "# Create a DataLoader for batching and shuffling\n",
    "batch_size = 16  # Define your desired batch size\n",
    "# Pass the custom collate function to the DataLoader\n",
    "dataloader = DataLoader(pytorch_dataset, batch_size=batch_size, shuffle=True, collate_fn=custom_collate_fn)\n",
    "\n",
    "\n",
    "print(f\"Created PyTorch Dataset with {len(pytorch_dataset)} examples.\")\n",
    "print(f\"Created PyTorch DataLoader with batch size {batch_size}.\")\n",
    "\n",
    "# Example of iterating through the dataloader\n",
    "print(\"\\nExample batch from DataLoader:\")\n",
    "for batch in dataloader:\n",
    "    print(\"Input IDs shape:\", batch['input_ids'].shape)\n",
    "    print(\"Attention Mask shape:\", batch['attention_mask'].shape)\n",
    "    break # Just show one batch example"
   ]
  },
  {
   "cell_type": "code",
   "execution_count": 13,
   "metadata": {
    "colab": {
     "base_uri": "https://localhost:8080/"
    },
    "executionInfo": {
     "elapsed": 120,
     "status": "ok",
     "timestamp": 1758040671988,
     "user": {
      "displayName": "jia xu",
      "userId": "17823170632814678079"
     },
     "user_tz": 420
    },
    "id": "64b822ef",
    "outputId": "39fb3827-7dc2-4f0f-d3b8-fd2de9d96038"
   },
   "outputs": [
    {
     "name": "stdout",
     "output_type": "stream",
     "text": [
      "Collecting 5 sample batches...\n",
      "Collected 5 sample batches.\n",
      "Sampled batches saved to sample_processed_data.pt\n"
     ]
    }
   ],
   "source": [
    "import torch\n",
    "\n",
    "# Collect a few sample batches\n",
    "num_samples = 5  # Number of batches to sample\n",
    "sampled_batches = []\n",
    "\n",
    "print(f\"Collecting {num_samples} sample batches...\")\n",
    "for i, batch in enumerate(dataloader):\n",
    "    if i >= num_samples:\n",
    "        break\n",
    "    sampled_batches.append(batch)\n",
    "\n",
    "print(f\"Collected {len(sampled_batches)} sample batches.\")\n",
    "\n",
    "# Save the sampled batches to a .pt file\n",
    "save_path = \"sample_processed_data.pt\"\n",
    "torch.save(sampled_batches, save_path)\n",
    "\n",
    "print(f\"Sampled batches saved to {save_path}\")"
   ]
  },
  {
   "cell_type": "markdown",
   "metadata": {},
   "source": [
    "# Check file"
   ]
  },
  {
   "cell_type": "code",
   "execution_count": 14,
   "metadata": {},
   "outputs": [
    {
     "name": "stdout",
     "output_type": "stream",
     "text": [
      "Loaded 5 batches from file.\n",
      "Type of batch: <class 'transformers.tokenization_utils_base.BatchEncoding'>\n",
      "Batch content: {'input_ids': tensor([[  101,  5234,  1010,  ...,     0,     0,     0],\n",
      "        [  101,  2220,  1997,  ...,     0,     0,     0],\n",
      "        [  101, 16962, 22117,  ...,     0,     0,     0],\n",
      "        ...,\n",
      "        [  101, 12794, 27830,  ...,  8569,  2102,   102],\n",
      "        [  101,  2203, 11261,  ...,     0,     0,     0],\n",
      "        [  101, 10744,  1997,  ...,  2216,  1997,   102]]), 'attention_mask': tensor([[1, 1, 1,  ..., 0, 0, 0],\n",
      "        [1, 1, 1,  ..., 0, 0, 0],\n",
      "        [1, 1, 1,  ..., 0, 0, 0],\n",
      "        ...,\n",
      "        [1, 1, 1,  ..., 1, 1, 1],\n",
      "        [1, 1, 1,  ..., 0, 0, 0],\n",
      "        [1, 1, 1,  ..., 1, 1, 1]])}\n"
     ]
    }
   ],
   "source": [
    "import torch\n",
    "\n",
    "# Load the saved file\n",
    "sampled_batches = torch.load(\"sample_processed_data.pt\", weights_only=False)\n",
    "\n",
    "print(f\"Loaded {len(sampled_batches)} batches from file.\")\n",
    "\n",
    "# Check structure of the first batch\n",
    "first_batch = sampled_batches[0]\n",
    "print(\"Type of batch:\", type(first_batch))\n",
    "print(\"Batch content:\", first_batch)"
   ]
  },
  {
   "cell_type": "code",
   "execution_count": 15,
   "metadata": {},
   "outputs": [
    {
     "name": "stderr",
     "output_type": "stream",
     "text": [
      "Saving the dataset (3/3 shards): 100%|██████████| 400654/400654 [00:00<00:00, 702179.61 examples/s]\n"
     ]
    }
   ],
   "source": [
    "chunked_dataset.save_to_disk(\"./processed_dataset\")"
   ]
  }
 ],
 "metadata": {
  "accelerator": "GPU",
  "colab": {
   "authorship_tag": "ABX9TyOSlaiZ50ZkG/0+ycW6znJ9",
   "gpuType": "T4",
   "provenance": []
  },
  "kernelspec": {
   "display_name": "venv",
   "language": "python",
   "name": "python3"
  },
  "language_info": {
   "codemirror_mode": {
    "name": "ipython",
    "version": 3
   },
   "file_extension": ".py",
   "mimetype": "text/x-python",
   "name": "python",
   "nbconvert_exporter": "python",
   "pygments_lexer": "ipython3",
   "version": "3.12.9"
  },
  "widgets": {
   "application/vnd.jupyter.widget-state+json": {
    "0073791beeb94cabb136712fdf10ce50": {
     "model_module": "@jupyter-widgets/controls",
     "model_module_version": "1.5.0",
     "model_name": "HTMLModel",
     "state": {
      "_dom_classes": [],
      "_model_module": "@jupyter-widgets/controls",
      "_model_module_version": "1.5.0",
      "_model_name": "HTMLModel",
      "_view_count": null,
      "_view_module": "@jupyter-widgets/controls",
      "_view_module_version": "1.5.0",
      "_view_name": "HTMLView",
      "description": "",
      "description_tooltip": null,
      "layout": "IPY_MODEL_1e5d8bd475c94bcfb58a51651425e648",
      "placeholder": "​",
      "style": "IPY_MODEL_ebfd498ed0764c3b9aa600d54c59151f",
      "value": " 150/150 [00:00&lt;00:00, 2092.11 examples/s]"
     }
    },
    "0143bbf172ae4bc888be585f933211fb": {
     "model_module": "@jupyter-widgets/base",
     "model_module_version": "1.2.0",
     "model_name": "LayoutModel",
     "state": {
      "_model_module": "@jupyter-widgets/base",
      "_model_module_version": "1.2.0",
      "_model_name": "LayoutModel",
      "_view_count": null,
      "_view_module": "@jupyter-widgets/base",
      "_view_module_version": "1.2.0",
      "_view_name": "LayoutView",
      "align_content": null,
      "align_items": null,
      "align_self": null,
      "border": null,
      "bottom": null,
      "display": null,
      "flex": null,
      "flex_flow": null,
      "grid_area": null,
      "grid_auto_columns": null,
      "grid_auto_flow": null,
      "grid_auto_rows": null,
      "grid_column": null,
      "grid_gap": null,
      "grid_row": null,
      "grid_template_areas": null,
      "grid_template_columns": null,
      "grid_template_rows": null,
      "height": null,
      "justify_content": null,
      "justify_items": null,
      "left": null,
      "margin": null,
      "max_height": null,
      "max_width": null,
      "min_height": null,
      "min_width": null,
      "object_fit": null,
      "object_position": null,
      "order": null,
      "overflow": null,
      "overflow_x": null,
      "overflow_y": null,
      "padding": null,
      "right": null,
      "top": null,
      "visibility": null,
      "width": null
     }
    },
    "08691e068c174b189961f716191b6168": {
     "model_module": "@jupyter-widgets/base",
     "model_module_version": "1.2.0",
     "model_name": "LayoutModel",
     "state": {
      "_model_module": "@jupyter-widgets/base",
      "_model_module_version": "1.2.0",
      "_model_name": "LayoutModel",
      "_view_count": null,
      "_view_module": "@jupyter-widgets/base",
      "_view_module_version": "1.2.0",
      "_view_name": "LayoutView",
      "align_content": null,
      "align_items": null,
      "align_self": null,
      "border": null,
      "bottom": null,
      "display": null,
      "flex": null,
      "flex_flow": null,
      "grid_area": null,
      "grid_auto_columns": null,
      "grid_auto_flow": null,
      "grid_auto_rows": null,
      "grid_column": null,
      "grid_gap": null,
      "grid_row": null,
      "grid_template_areas": null,
      "grid_template_columns": null,
      "grid_template_rows": null,
      "height": null,
      "justify_content": null,
      "justify_items": null,
      "left": null,
      "margin": null,
      "max_height": null,
      "max_width": null,
      "min_height": null,
      "min_width": null,
      "object_fit": null,
      "object_position": null,
      "order": null,
      "overflow": null,
      "overflow_x": null,
      "overflow_y": null,
      "padding": null,
      "right": null,
      "top": null,
      "visibility": null,
      "width": null
     }
    },
    "0a83e92517864e54a5cb26b4b792418b": {
     "model_module": "@jupyter-widgets/base",
     "model_module_version": "1.2.0",
     "model_name": "LayoutModel",
     "state": {
      "_model_module": "@jupyter-widgets/base",
      "_model_module_version": "1.2.0",
      "_model_name": "LayoutModel",
      "_view_count": null,
      "_view_module": "@jupyter-widgets/base",
      "_view_module_version": "1.2.0",
      "_view_name": "LayoutView",
      "align_content": null,
      "align_items": null,
      "align_self": null,
      "border": null,
      "bottom": null,
      "display": null,
      "flex": null,
      "flex_flow": null,
      "grid_area": null,
      "grid_auto_columns": null,
      "grid_auto_flow": null,
      "grid_auto_rows": null,
      "grid_column": null,
      "grid_gap": null,
      "grid_row": null,
      "grid_template_areas": null,
      "grid_template_columns": null,
      "grid_template_rows": null,
      "height": null,
      "justify_content": null,
      "justify_items": null,
      "left": null,
      "margin": null,
      "max_height": null,
      "max_width": null,
      "min_height": null,
      "min_width": null,
      "object_fit": null,
      "object_position": null,
      "order": null,
      "overflow": null,
      "overflow_x": null,
      "overflow_y": null,
      "padding": null,
      "right": null,
      "top": null,
      "visibility": null,
      "width": null
     }
    },
    "0e13dbf29c9f438dbb93ee34f3904cd8": {
     "model_module": "@jupyter-widgets/controls",
     "model_module_version": "1.5.0",
     "model_name": "DescriptionStyleModel",
     "state": {
      "_model_module": "@jupyter-widgets/controls",
      "_model_module_version": "1.5.0",
      "_model_name": "DescriptionStyleModel",
      "_view_count": null,
      "_view_module": "@jupyter-widgets/base",
      "_view_module_version": "1.2.0",
      "_view_name": "StyleView",
      "description_width": ""
     }
    },
    "166dc5c44fe34c27a1007d9e8ece0f73": {
     "model_module": "@jupyter-widgets/base",
     "model_module_version": "1.2.0",
     "model_name": "LayoutModel",
     "state": {
      "_model_module": "@jupyter-widgets/base",
      "_model_module_version": "1.2.0",
      "_model_name": "LayoutModel",
      "_view_count": null,
      "_view_module": "@jupyter-widgets/base",
      "_view_module_version": "1.2.0",
      "_view_name": "LayoutView",
      "align_content": null,
      "align_items": null,
      "align_self": null,
      "border": null,
      "bottom": null,
      "display": null,
      "flex": null,
      "flex_flow": null,
      "grid_area": null,
      "grid_auto_columns": null,
      "grid_auto_flow": null,
      "grid_auto_rows": null,
      "grid_column": null,
      "grid_gap": null,
      "grid_row": null,
      "grid_template_areas": null,
      "grid_template_columns": null,
      "grid_template_rows": null,
      "height": null,
      "justify_content": null,
      "justify_items": null,
      "left": null,
      "margin": null,
      "max_height": null,
      "max_width": null,
      "min_height": null,
      "min_width": null,
      "object_fit": null,
      "object_position": null,
      "order": null,
      "overflow": null,
      "overflow_x": null,
      "overflow_y": null,
      "padding": null,
      "right": null,
      "top": null,
      "visibility": null,
      "width": null
     }
    },
    "18f51b765246483daab4c599070f95aa": {
     "model_module": "@jupyter-widgets/base",
     "model_module_version": "1.2.0",
     "model_name": "LayoutModel",
     "state": {
      "_model_module": "@jupyter-widgets/base",
      "_model_module_version": "1.2.0",
      "_model_name": "LayoutModel",
      "_view_count": null,
      "_view_module": "@jupyter-widgets/base",
      "_view_module_version": "1.2.0",
      "_view_name": "LayoutView",
      "align_content": null,
      "align_items": null,
      "align_self": null,
      "border": null,
      "bottom": null,
      "display": null,
      "flex": null,
      "flex_flow": null,
      "grid_area": null,
      "grid_auto_columns": null,
      "grid_auto_flow": null,
      "grid_auto_rows": null,
      "grid_column": null,
      "grid_gap": null,
      "grid_row": null,
      "grid_template_areas": null,
      "grid_template_columns": null,
      "grid_template_rows": null,
      "height": null,
      "justify_content": null,
      "justify_items": null,
      "left": null,
      "margin": null,
      "max_height": null,
      "max_width": null,
      "min_height": null,
      "min_width": null,
      "object_fit": null,
      "object_position": null,
      "order": null,
      "overflow": null,
      "overflow_x": null,
      "overflow_y": null,
      "padding": null,
      "right": null,
      "top": null,
      "visibility": null,
      "width": "20px"
     }
    },
    "1a1f27aece7f4e4780b9a70c130a4d69": {
     "model_module": "@jupyter-widgets/base",
     "model_module_version": "1.2.0",
     "model_name": "LayoutModel",
     "state": {
      "_model_module": "@jupyter-widgets/base",
      "_model_module_version": "1.2.0",
      "_model_name": "LayoutModel",
      "_view_count": null,
      "_view_module": "@jupyter-widgets/base",
      "_view_module_version": "1.2.0",
      "_view_name": "LayoutView",
      "align_content": null,
      "align_items": null,
      "align_self": null,
      "border": null,
      "bottom": null,
      "display": null,
      "flex": null,
      "flex_flow": null,
      "grid_area": null,
      "grid_auto_columns": null,
      "grid_auto_flow": null,
      "grid_auto_rows": null,
      "grid_column": null,
      "grid_gap": null,
      "grid_row": null,
      "grid_template_areas": null,
      "grid_template_columns": null,
      "grid_template_rows": null,
      "height": null,
      "justify_content": null,
      "justify_items": null,
      "left": null,
      "margin": null,
      "max_height": null,
      "max_width": null,
      "min_height": null,
      "min_width": null,
      "object_fit": null,
      "object_position": null,
      "order": null,
      "overflow": null,
      "overflow_x": null,
      "overflow_y": null,
      "padding": null,
      "right": null,
      "top": null,
      "visibility": null,
      "width": null
     }
    },
    "1e5d8bd475c94bcfb58a51651425e648": {
     "model_module": "@jupyter-widgets/base",
     "model_module_version": "1.2.0",
     "model_name": "LayoutModel",
     "state": {
      "_model_module": "@jupyter-widgets/base",
      "_model_module_version": "1.2.0",
      "_model_name": "LayoutModel",
      "_view_count": null,
      "_view_module": "@jupyter-widgets/base",
      "_view_module_version": "1.2.0",
      "_view_name": "LayoutView",
      "align_content": null,
      "align_items": null,
      "align_self": null,
      "border": null,
      "bottom": null,
      "display": null,
      "flex": null,
      "flex_flow": null,
      "grid_area": null,
      "grid_auto_columns": null,
      "grid_auto_flow": null,
      "grid_auto_rows": null,
      "grid_column": null,
      "grid_gap": null,
      "grid_row": null,
      "grid_template_areas": null,
      "grid_template_columns": null,
      "grid_template_rows": null,
      "height": null,
      "justify_content": null,
      "justify_items": null,
      "left": null,
      "margin": null,
      "max_height": null,
      "max_width": null,
      "min_height": null,
      "min_width": null,
      "object_fit": null,
      "object_position": null,
      "order": null,
      "overflow": null,
      "overflow_x": null,
      "overflow_y": null,
      "padding": null,
      "right": null,
      "top": null,
      "visibility": null,
      "width": null
     }
    },
    "2436cca54f5b4329aac1817bf2290cab": {
     "model_module": "@jupyter-widgets/controls",
     "model_module_version": "1.5.0",
     "model_name": "HTMLModel",
     "state": {
      "_dom_classes": [],
      "_model_module": "@jupyter-widgets/controls",
      "_model_module_version": "1.5.0",
      "_model_name": "HTMLModel",
      "_view_count": null,
      "_view_module": "@jupyter-widgets/controls",
      "_view_module_version": "1.5.0",
      "_view_name": "HTMLView",
      "description": "",
      "description_tooltip": null,
      "layout": "IPY_MODEL_0143bbf172ae4bc888be585f933211fb",
      "placeholder": "​",
      "style": "IPY_MODEL_9be5f537b9c34d54b99c594cee28997b",
      "value": " 41/41 [00:00&lt;00:00, 115.48it/s]"
     }
    },
    "27da70df97a944c39c48458b20b21147": {
     "model_module": "@jupyter-widgets/controls",
     "model_module_version": "1.5.0",
     "model_name": "ProgressStyleModel",
     "state": {
      "_model_module": "@jupyter-widgets/controls",
      "_model_module_version": "1.5.0",
      "_model_name": "ProgressStyleModel",
      "_view_count": null,
      "_view_module": "@jupyter-widgets/base",
      "_view_module_version": "1.2.0",
      "_view_name": "StyleView",
      "bar_color": null,
      "description_width": ""
     }
    },
    "28abaa5b0b0746b3a075543117c51795": {
     "model_module": "@jupyter-widgets/controls",
     "model_module_version": "1.5.0",
     "model_name": "DescriptionStyleModel",
     "state": {
      "_model_module": "@jupyter-widgets/controls",
      "_model_module_version": "1.5.0",
      "_model_name": "DescriptionStyleModel",
      "_view_count": null,
      "_view_module": "@jupyter-widgets/base",
      "_view_module_version": "1.2.0",
      "_view_name": "StyleView",
      "description_width": ""
     }
    },
    "29e7cf9d24f247418aa87b3b3f33ec40": {
     "model_module": "@jupyter-widgets/controls",
     "model_module_version": "1.5.0",
     "model_name": "HBoxModel",
     "state": {
      "_dom_classes": [],
      "_model_module": "@jupyter-widgets/controls",
      "_model_module_version": "1.5.0",
      "_model_name": "HBoxModel",
      "_view_count": null,
      "_view_module": "@jupyter-widgets/controls",
      "_view_module_version": "1.5.0",
      "_view_name": "HBoxView",
      "box_style": "",
      "children": [
       "IPY_MODEL_7350c6eee6384a9a97a6ba4aab94563d",
       "IPY_MODEL_bbbd8d7ff984496a9b950f02fdfa67d7",
       "IPY_MODEL_5f9d61a4141c4622bc94a5c4f230951d"
      ],
      "layout": "IPY_MODEL_08691e068c174b189961f716191b6168"
     }
    },
    "2a499642443047b09deaeff83b5c6a67": {
     "model_module": "@jupyter-widgets/controls",
     "model_module_version": "1.5.0",
     "model_name": "FloatProgressModel",
     "state": {
      "_dom_classes": [],
      "_model_module": "@jupyter-widgets/controls",
      "_model_module_version": "1.5.0",
      "_model_name": "FloatProgressModel",
      "_view_count": null,
      "_view_module": "@jupyter-widgets/controls",
      "_view_module_version": "1.5.0",
      "_view_name": "ProgressView",
      "bar_style": "success",
      "description": "",
      "description_tooltip": null,
      "layout": "IPY_MODEL_8b14c89bb7a74a809898e8848d8ca45a",
      "max": 149,
      "min": 0,
      "orientation": "horizontal",
      "style": "IPY_MODEL_f65933b08f0c4b37b44428b311810329",
      "value": 149
     }
    },
    "2cf71b5d152c43c682c179863ced5921": {
     "model_module": "@jupyter-widgets/base",
     "model_module_version": "1.2.0",
     "model_name": "LayoutModel",
     "state": {
      "_model_module": "@jupyter-widgets/base",
      "_model_module_version": "1.2.0",
      "_model_name": "LayoutModel",
      "_view_count": null,
      "_view_module": "@jupyter-widgets/base",
      "_view_module_version": "1.2.0",
      "_view_name": "LayoutView",
      "align_content": null,
      "align_items": null,
      "align_self": null,
      "border": null,
      "bottom": null,
      "display": null,
      "flex": null,
      "flex_flow": null,
      "grid_area": null,
      "grid_auto_columns": null,
      "grid_auto_flow": null,
      "grid_auto_rows": null,
      "grid_column": null,
      "grid_gap": null,
      "grid_row": null,
      "grid_template_areas": null,
      "grid_template_columns": null,
      "grid_template_rows": null,
      "height": null,
      "justify_content": null,
      "justify_items": null,
      "left": null,
      "margin": null,
      "max_height": null,
      "max_width": null,
      "min_height": null,
      "min_width": null,
      "object_fit": null,
      "object_position": null,
      "order": null,
      "overflow": null,
      "overflow_x": null,
      "overflow_y": null,
      "padding": null,
      "right": null,
      "top": null,
      "visibility": null,
      "width": null
     }
    },
    "32776d83cc7d47c9a94cb92230bec4b4": {
     "model_module": "@jupyter-widgets/controls",
     "model_module_version": "1.5.0",
     "model_name": "HTMLModel",
     "state": {
      "_dom_classes": [],
      "_model_module": "@jupyter-widgets/controls",
      "_model_module_version": "1.5.0",
      "_model_name": "HTMLModel",
      "_view_count": null,
      "_view_module": "@jupyter-widgets/controls",
      "_view_module_version": "1.5.0",
      "_view_name": "HTMLView",
      "description": "",
      "description_tooltip": null,
      "layout": "IPY_MODEL_c6114f34c513497bbd9c88f7eb984c3d",
      "placeholder": "​",
      "style": "IPY_MODEL_cc159999fe27405bba246c65902c5f1c",
      "value": "Filter: 100%"
     }
    },
    "3ca6a65f100b4393bc93abf0b6d8f865": {
     "model_module": "@jupyter-widgets/base",
     "model_module_version": "1.2.0",
     "model_name": "LayoutModel",
     "state": {
      "_model_module": "@jupyter-widgets/base",
      "_model_module_version": "1.2.0",
      "_model_name": "LayoutModel",
      "_view_count": null,
      "_view_module": "@jupyter-widgets/base",
      "_view_module_version": "1.2.0",
      "_view_name": "LayoutView",
      "align_content": null,
      "align_items": null,
      "align_self": null,
      "border": null,
      "bottom": null,
      "display": null,
      "flex": null,
      "flex_flow": null,
      "grid_area": null,
      "grid_auto_columns": null,
      "grid_auto_flow": null,
      "grid_auto_rows": null,
      "grid_column": null,
      "grid_gap": null,
      "grid_row": null,
      "grid_template_areas": null,
      "grid_template_columns": null,
      "grid_template_rows": null,
      "height": null,
      "justify_content": null,
      "justify_items": null,
      "left": null,
      "margin": null,
      "max_height": null,
      "max_width": null,
      "min_height": null,
      "min_width": null,
      "object_fit": null,
      "object_position": null,
      "order": null,
      "overflow": null,
      "overflow_x": null,
      "overflow_y": null,
      "padding": null,
      "right": null,
      "top": null,
      "visibility": null,
      "width": null
     }
    },
    "3cbd639b662f495b9bdccd0a07193183": {
     "model_module": "@jupyter-widgets/controls",
     "model_module_version": "1.5.0",
     "model_name": "DescriptionStyleModel",
     "state": {
      "_model_module": "@jupyter-widgets/controls",
      "_model_module_version": "1.5.0",
      "_model_name": "DescriptionStyleModel",
      "_view_count": null,
      "_view_module": "@jupyter-widgets/base",
      "_view_module_version": "1.2.0",
      "_view_name": "StyleView",
      "description_width": ""
     }
    },
    "3e4a9c56e09d4527a4135944ec218949": {
     "model_module": "@jupyter-widgets/controls",
     "model_module_version": "1.5.0",
     "model_name": "ProgressStyleModel",
     "state": {
      "_model_module": "@jupyter-widgets/controls",
      "_model_module_version": "1.5.0",
      "_model_name": "ProgressStyleModel",
      "_view_count": null,
      "_view_module": "@jupyter-widgets/base",
      "_view_module_version": "1.2.0",
      "_view_name": "StyleView",
      "bar_color": null,
      "description_width": ""
     }
    },
    "3fe35649a808448a968816eeff525ac7": {
     "model_module": "@jupyter-widgets/base",
     "model_module_version": "1.2.0",
     "model_name": "LayoutModel",
     "state": {
      "_model_module": "@jupyter-widgets/base",
      "_model_module_version": "1.2.0",
      "_model_name": "LayoutModel",
      "_view_count": null,
      "_view_module": "@jupyter-widgets/base",
      "_view_module_version": "1.2.0",
      "_view_name": "LayoutView",
      "align_content": null,
      "align_items": null,
      "align_self": null,
      "border": null,
      "bottom": null,
      "display": null,
      "flex": null,
      "flex_flow": null,
      "grid_area": null,
      "grid_auto_columns": null,
      "grid_auto_flow": null,
      "grid_auto_rows": null,
      "grid_column": null,
      "grid_gap": null,
      "grid_row": null,
      "grid_template_areas": null,
      "grid_template_columns": null,
      "grid_template_rows": null,
      "height": null,
      "justify_content": null,
      "justify_items": null,
      "left": null,
      "margin": null,
      "max_height": null,
      "max_width": null,
      "min_height": null,
      "min_width": null,
      "object_fit": null,
      "object_position": null,
      "order": null,
      "overflow": null,
      "overflow_x": null,
      "overflow_y": null,
      "padding": null,
      "right": null,
      "top": null,
      "visibility": null,
      "width": null
     }
    },
    "484082e5c382471d88283d1eb93b4122": {
     "model_module": "@jupyter-widgets/controls",
     "model_module_version": "1.5.0",
     "model_name": "FloatProgressModel",
     "state": {
      "_dom_classes": [],
      "_model_module": "@jupyter-widgets/controls",
      "_model_module_version": "1.5.0",
      "_model_name": "FloatProgressModel",
      "_view_count": null,
      "_view_module": "@jupyter-widgets/controls",
      "_view_module_version": "1.5.0",
      "_view_name": "ProgressView",
      "bar_style": "success",
      "description": "",
      "description_tooltip": null,
      "layout": "IPY_MODEL_2cf71b5d152c43c682c179863ced5921",
      "max": 150,
      "min": 0,
      "orientation": "horizontal",
      "style": "IPY_MODEL_27da70df97a944c39c48458b20b21147",
      "value": 150
     }
    },
    "4ab93777bf8c42d7ab3450d99c2c2b5d": {
     "model_module": "@jupyter-widgets/controls",
     "model_module_version": "1.5.0",
     "model_name": "DescriptionStyleModel",
     "state": {
      "_model_module": "@jupyter-widgets/controls",
      "_model_module_version": "1.5.0",
      "_model_name": "DescriptionStyleModel",
      "_view_count": null,
      "_view_module": "@jupyter-widgets/base",
      "_view_module_version": "1.2.0",
      "_view_name": "StyleView",
      "description_width": ""
     }
    },
    "506c5c5a58ec4463a2bff679b904125a": {
     "model_module": "@jupyter-widgets/base",
     "model_module_version": "1.2.0",
     "model_name": "LayoutModel",
     "state": {
      "_model_module": "@jupyter-widgets/base",
      "_model_module_version": "1.2.0",
      "_model_name": "LayoutModel",
      "_view_count": null,
      "_view_module": "@jupyter-widgets/base",
      "_view_module_version": "1.2.0",
      "_view_name": "LayoutView",
      "align_content": null,
      "align_items": null,
      "align_self": null,
      "border": null,
      "bottom": null,
      "display": null,
      "flex": null,
      "flex_flow": null,
      "grid_area": null,
      "grid_auto_columns": null,
      "grid_auto_flow": null,
      "grid_auto_rows": null,
      "grid_column": null,
      "grid_gap": null,
      "grid_row": null,
      "grid_template_areas": null,
      "grid_template_columns": null,
      "grid_template_rows": null,
      "height": null,
      "justify_content": null,
      "justify_items": null,
      "left": null,
      "margin": null,
      "max_height": null,
      "max_width": null,
      "min_height": null,
      "min_width": null,
      "object_fit": null,
      "object_position": null,
      "order": null,
      "overflow": null,
      "overflow_x": null,
      "overflow_y": null,
      "padding": null,
      "right": null,
      "top": null,
      "visibility": null,
      "width": null
     }
    },
    "55539aa2091f4a929f8518ba71f0ace3": {
     "model_module": "@jupyter-widgets/base",
     "model_module_version": "1.2.0",
     "model_name": "LayoutModel",
     "state": {
      "_model_module": "@jupyter-widgets/base",
      "_model_module_version": "1.2.0",
      "_model_name": "LayoutModel",
      "_view_count": null,
      "_view_module": "@jupyter-widgets/base",
      "_view_module_version": "1.2.0",
      "_view_name": "LayoutView",
      "align_content": null,
      "align_items": null,
      "align_self": null,
      "border": null,
      "bottom": null,
      "display": null,
      "flex": null,
      "flex_flow": null,
      "grid_area": null,
      "grid_auto_columns": null,
      "grid_auto_flow": null,
      "grid_auto_rows": null,
      "grid_column": null,
      "grid_gap": null,
      "grid_row": null,
      "grid_template_areas": null,
      "grid_template_columns": null,
      "grid_template_rows": null,
      "height": null,
      "justify_content": null,
      "justify_items": null,
      "left": null,
      "margin": null,
      "max_height": null,
      "max_width": null,
      "min_height": null,
      "min_width": null,
      "object_fit": null,
      "object_position": null,
      "order": null,
      "overflow": null,
      "overflow_x": null,
      "overflow_y": null,
      "padding": null,
      "right": null,
      "top": null,
      "visibility": null,
      "width": null
     }
    },
    "5c772b787af54e2e9e7340b0bbe43e8f": {
     "model_module": "@jupyter-widgets/controls",
     "model_module_version": "1.5.0",
     "model_name": "HTMLModel",
     "state": {
      "_dom_classes": [],
      "_model_module": "@jupyter-widgets/controls",
      "_model_module_version": "1.5.0",
      "_model_name": "HTMLModel",
      "_view_count": null,
      "_view_module": "@jupyter-widgets/controls",
      "_view_module_version": "1.5.0",
      "_view_name": "HTMLView",
      "description": "",
      "description_tooltip": null,
      "layout": "IPY_MODEL_55539aa2091f4a929f8518ba71f0ace3",
      "placeholder": "​",
      "style": "IPY_MODEL_4ab93777bf8c42d7ab3450d99c2c2b5d",
      "value": "Map: 100%"
     }
    },
    "5e72e34bae164565b96bdbb4c527cf92": {
     "model_module": "@jupyter-widgets/controls",
     "model_module_version": "1.5.0",
     "model_name": "HBoxModel",
     "state": {
      "_dom_classes": [],
      "_model_module": "@jupyter-widgets/controls",
      "_model_module_version": "1.5.0",
      "_model_name": "HBoxModel",
      "_view_count": null,
      "_view_module": "@jupyter-widgets/controls",
      "_view_module_version": "1.5.0",
      "_view_name": "HBoxView",
      "box_style": "",
      "children": [
       "IPY_MODEL_7471dcc3f45c4a4abf7e998aa65187a0",
       "IPY_MODEL_95ae787387fe4fad84bc2c0fcde4f391",
       "IPY_MODEL_2436cca54f5b4329aac1817bf2290cab"
      ],
      "layout": "IPY_MODEL_3fe35649a808448a968816eeff525ac7"
     }
    },
    "5f9d61a4141c4622bc94a5c4f230951d": {
     "model_module": "@jupyter-widgets/controls",
     "model_module_version": "1.5.0",
     "model_name": "HTMLModel",
     "state": {
      "_dom_classes": [],
      "_model_module": "@jupyter-widgets/controls",
      "_model_module_version": "1.5.0",
      "_model_name": "HTMLModel",
      "_view_count": null,
      "_view_module": "@jupyter-widgets/controls",
      "_view_module_version": "1.5.0",
      "_view_name": "HTMLView",
      "description": "",
      "description_tooltip": null,
      "layout": "IPY_MODEL_1a1f27aece7f4e4780b9a70c130a4d69",
      "placeholder": "​",
      "style": "IPY_MODEL_92a871d6fd6f447da6b1a65b0c130668",
      "value": " 131k/? [00:00&lt;00:00, 5.90MB/s]"
     }
    },
    "7350c6eee6384a9a97a6ba4aab94563d": {
     "model_module": "@jupyter-widgets/controls",
     "model_module_version": "1.5.0",
     "model_name": "HTMLModel",
     "state": {
      "_dom_classes": [],
      "_model_module": "@jupyter-widgets/controls",
      "_model_module_version": "1.5.0",
      "_model_name": "HTMLModel",
      "_view_count": null,
      "_view_module": "@jupyter-widgets/controls",
      "_view_module_version": "1.5.0",
      "_view_name": "HTMLView",
      "description": "",
      "description_tooltip": null,
      "layout": "IPY_MODEL_3ca6a65f100b4393bc93abf0b6d8f865",
      "placeholder": "​",
      "style": "IPY_MODEL_afbb03557a764452b6a23c2c64cefa2e",
      "value": "README.md: "
     }
    },
    "7471dcc3f45c4a4abf7e998aa65187a0": {
     "model_module": "@jupyter-widgets/controls",
     "model_module_version": "1.5.0",
     "model_name": "HTMLModel",
     "state": {
      "_dom_classes": [],
      "_model_module": "@jupyter-widgets/controls",
      "_model_module_version": "1.5.0",
      "_model_name": "HTMLModel",
      "_view_count": null,
      "_view_module": "@jupyter-widgets/controls",
      "_view_module_version": "1.5.0",
      "_view_name": "HTMLView",
      "description": "",
      "description_tooltip": null,
      "layout": "IPY_MODEL_a05d0cae7fef48a99a0a387deb8961a6",
      "placeholder": "​",
      "style": "IPY_MODEL_db8d411f4e754da0914b829585ef1f64",
      "value": "Resolving data files: 100%"
     }
    },
    "7b7de6efb7184ace8db011b7e4b9b4aa": {
     "model_module": "@jupyter-widgets/base",
     "model_module_version": "1.2.0",
     "model_name": "LayoutModel",
     "state": {
      "_model_module": "@jupyter-widgets/base",
      "_model_module_version": "1.2.0",
      "_model_name": "LayoutModel",
      "_view_count": null,
      "_view_module": "@jupyter-widgets/base",
      "_view_module_version": "1.2.0",
      "_view_name": "LayoutView",
      "align_content": null,
      "align_items": null,
      "align_self": null,
      "border": null,
      "bottom": null,
      "display": null,
      "flex": null,
      "flex_flow": null,
      "grid_area": null,
      "grid_auto_columns": null,
      "grid_auto_flow": null,
      "grid_auto_rows": null,
      "grid_column": null,
      "grid_gap": null,
      "grid_row": null,
      "grid_template_areas": null,
      "grid_template_columns": null,
      "grid_template_rows": null,
      "height": null,
      "justify_content": null,
      "justify_items": null,
      "left": null,
      "margin": null,
      "max_height": null,
      "max_width": null,
      "min_height": null,
      "min_width": null,
      "object_fit": null,
      "object_position": null,
      "order": null,
      "overflow": null,
      "overflow_x": null,
      "overflow_y": null,
      "padding": null,
      "right": null,
      "top": null,
      "visibility": null,
      "width": null
     }
    },
    "8ad542c6fb214d5797272176d53bcb6b": {
     "model_module": "@jupyter-widgets/controls",
     "model_module_version": "1.5.0",
     "model_name": "FloatProgressModel",
     "state": {
      "_dom_classes": [],
      "_model_module": "@jupyter-widgets/controls",
      "_model_module_version": "1.5.0",
      "_model_name": "FloatProgressModel",
      "_view_count": null,
      "_view_module": "@jupyter-widgets/controls",
      "_view_module_version": "1.5.0",
      "_view_name": "ProgressView",
      "bar_style": "success",
      "description": "",
      "description_tooltip": null,
      "layout": "IPY_MODEL_ecbe049b627d474f97b24ccdb778f823",
      "max": 150,
      "min": 0,
      "orientation": "horizontal",
      "style": "IPY_MODEL_a78c291b0b79468db93a60239a442c02",
      "value": 150
     }
    },
    "8b14c89bb7a74a809898e8848d8ca45a": {
     "model_module": "@jupyter-widgets/base",
     "model_module_version": "1.2.0",
     "model_name": "LayoutModel",
     "state": {
      "_model_module": "@jupyter-widgets/base",
      "_model_module_version": "1.2.0",
      "_model_name": "LayoutModel",
      "_view_count": null,
      "_view_module": "@jupyter-widgets/base",
      "_view_module_version": "1.2.0",
      "_view_name": "LayoutView",
      "align_content": null,
      "align_items": null,
      "align_self": null,
      "border": null,
      "bottom": null,
      "display": null,
      "flex": null,
      "flex_flow": null,
      "grid_area": null,
      "grid_auto_columns": null,
      "grid_auto_flow": null,
      "grid_auto_rows": null,
      "grid_column": null,
      "grid_gap": null,
      "grid_row": null,
      "grid_template_areas": null,
      "grid_template_columns": null,
      "grid_template_rows": null,
      "height": null,
      "justify_content": null,
      "justify_items": null,
      "left": null,
      "margin": null,
      "max_height": null,
      "max_width": null,
      "min_height": null,
      "min_width": null,
      "object_fit": null,
      "object_position": null,
      "order": null,
      "overflow": null,
      "overflow_x": null,
      "overflow_y": null,
      "padding": null,
      "right": null,
      "top": null,
      "visibility": null,
      "width": null
     }
    },
    "92a871d6fd6f447da6b1a65b0c130668": {
     "model_module": "@jupyter-widgets/controls",
     "model_module_version": "1.5.0",
     "model_name": "DescriptionStyleModel",
     "state": {
      "_model_module": "@jupyter-widgets/controls",
      "_model_module_version": "1.5.0",
      "_model_name": "DescriptionStyleModel",
      "_view_count": null,
      "_view_module": "@jupyter-widgets/base",
      "_view_module_version": "1.2.0",
      "_view_name": "StyleView",
      "description_width": ""
     }
    },
    "95ae787387fe4fad84bc2c0fcde4f391": {
     "model_module": "@jupyter-widgets/controls",
     "model_module_version": "1.5.0",
     "model_name": "FloatProgressModel",
     "state": {
      "_dom_classes": [],
      "_model_module": "@jupyter-widgets/controls",
      "_model_module_version": "1.5.0",
      "_model_name": "FloatProgressModel",
      "_view_count": null,
      "_view_module": "@jupyter-widgets/controls",
      "_view_module_version": "1.5.0",
      "_view_name": "ProgressView",
      "bar_style": "success",
      "description": "",
      "description_tooltip": null,
      "layout": "IPY_MODEL_506c5c5a58ec4463a2bff679b904125a",
      "max": 41,
      "min": 0,
      "orientation": "horizontal",
      "style": "IPY_MODEL_bb12b004f5a34bea92d461db669cb111",
      "value": 41
     }
    },
    "97dc8b268a0943a396f20303543c41a4": {
     "model_module": "@jupyter-widgets/controls",
     "model_module_version": "1.5.0",
     "model_name": "HBoxModel",
     "state": {
      "_dom_classes": [],
      "_model_module": "@jupyter-widgets/controls",
      "_model_module_version": "1.5.0",
      "_model_name": "HBoxModel",
      "_view_count": null,
      "_view_module": "@jupyter-widgets/controls",
      "_view_module_version": "1.5.0",
      "_view_name": "HBoxView",
      "box_style": "",
      "children": [
       "IPY_MODEL_e8449db7c46240139b812618cc6f9ce6",
       "IPY_MODEL_2a499642443047b09deaeff83b5c6a67",
       "IPY_MODEL_eeb8ba9bfe2749aab1c255c4784d5c92"
      ],
      "layout": "IPY_MODEL_9f32da215b6d42c4bac5709d5fe0ca9d"
     }
    },
    "9be5f537b9c34d54b99c594cee28997b": {
     "model_module": "@jupyter-widgets/controls",
     "model_module_version": "1.5.0",
     "model_name": "DescriptionStyleModel",
     "state": {
      "_model_module": "@jupyter-widgets/controls",
      "_model_module_version": "1.5.0",
      "_model_name": "DescriptionStyleModel",
      "_view_count": null,
      "_view_module": "@jupyter-widgets/base",
      "_view_module_version": "1.2.0",
      "_view_name": "StyleView",
      "description_width": ""
     }
    },
    "9ecb72a7b12f403dbe9e45fc2e9373a9": {
     "model_module": "@jupyter-widgets/base",
     "model_module_version": "1.2.0",
     "model_name": "LayoutModel",
     "state": {
      "_model_module": "@jupyter-widgets/base",
      "_model_module_version": "1.2.0",
      "_model_name": "LayoutModel",
      "_view_count": null,
      "_view_module": "@jupyter-widgets/base",
      "_view_module_version": "1.2.0",
      "_view_name": "LayoutView",
      "align_content": null,
      "align_items": null,
      "align_self": null,
      "border": null,
      "bottom": null,
      "display": null,
      "flex": null,
      "flex_flow": null,
      "grid_area": null,
      "grid_auto_columns": null,
      "grid_auto_flow": null,
      "grid_auto_rows": null,
      "grid_column": null,
      "grid_gap": null,
      "grid_row": null,
      "grid_template_areas": null,
      "grid_template_columns": null,
      "grid_template_rows": null,
      "height": null,
      "justify_content": null,
      "justify_items": null,
      "left": null,
      "margin": null,
      "max_height": null,
      "max_width": null,
      "min_height": null,
      "min_width": null,
      "object_fit": null,
      "object_position": null,
      "order": null,
      "overflow": null,
      "overflow_x": null,
      "overflow_y": null,
      "padding": null,
      "right": null,
      "top": null,
      "visibility": null,
      "width": null
     }
    },
    "9f32da215b6d42c4bac5709d5fe0ca9d": {
     "model_module": "@jupyter-widgets/base",
     "model_module_version": "1.2.0",
     "model_name": "LayoutModel",
     "state": {
      "_model_module": "@jupyter-widgets/base",
      "_model_module_version": "1.2.0",
      "_model_name": "LayoutModel",
      "_view_count": null,
      "_view_module": "@jupyter-widgets/base",
      "_view_module_version": "1.2.0",
      "_view_name": "LayoutView",
      "align_content": null,
      "align_items": null,
      "align_self": null,
      "border": null,
      "bottom": null,
      "display": null,
      "flex": null,
      "flex_flow": null,
      "grid_area": null,
      "grid_auto_columns": null,
      "grid_auto_flow": null,
      "grid_auto_rows": null,
      "grid_column": null,
      "grid_gap": null,
      "grid_row": null,
      "grid_template_areas": null,
      "grid_template_columns": null,
      "grid_template_rows": null,
      "height": null,
      "justify_content": null,
      "justify_items": null,
      "left": null,
      "margin": null,
      "max_height": null,
      "max_width": null,
      "min_height": null,
      "min_width": null,
      "object_fit": null,
      "object_position": null,
      "order": null,
      "overflow": null,
      "overflow_x": null,
      "overflow_y": null,
      "padding": null,
      "right": null,
      "top": null,
      "visibility": null,
      "width": null
     }
    },
    "a05d0cae7fef48a99a0a387deb8961a6": {
     "model_module": "@jupyter-widgets/base",
     "model_module_version": "1.2.0",
     "model_name": "LayoutModel",
     "state": {
      "_model_module": "@jupyter-widgets/base",
      "_model_module_version": "1.2.0",
      "_model_name": "LayoutModel",
      "_view_count": null,
      "_view_module": "@jupyter-widgets/base",
      "_view_module_version": "1.2.0",
      "_view_name": "LayoutView",
      "align_content": null,
      "align_items": null,
      "align_self": null,
      "border": null,
      "bottom": null,
      "display": null,
      "flex": null,
      "flex_flow": null,
      "grid_area": null,
      "grid_auto_columns": null,
      "grid_auto_flow": null,
      "grid_auto_rows": null,
      "grid_column": null,
      "grid_gap": null,
      "grid_row": null,
      "grid_template_areas": null,
      "grid_template_columns": null,
      "grid_template_rows": null,
      "height": null,
      "justify_content": null,
      "justify_items": null,
      "left": null,
      "margin": null,
      "max_height": null,
      "max_width": null,
      "min_height": null,
      "min_width": null,
      "object_fit": null,
      "object_position": null,
      "order": null,
      "overflow": null,
      "overflow_x": null,
      "overflow_y": null,
      "padding": null,
      "right": null,
      "top": null,
      "visibility": null,
      "width": null
     }
    },
    "a37e61cf4dd94107b2ffe03d898f1aec": {
     "model_module": "@jupyter-widgets/controls",
     "model_module_version": "1.5.0",
     "model_name": "HTMLModel",
     "state": {
      "_dom_classes": [],
      "_model_module": "@jupyter-widgets/controls",
      "_model_module_version": "1.5.0",
      "_model_name": "HTMLModel",
      "_view_count": null,
      "_view_module": "@jupyter-widgets/controls",
      "_view_module_version": "1.5.0",
      "_view_name": "HTMLView",
      "description": "",
      "description_tooltip": null,
      "layout": "IPY_MODEL_7b7de6efb7184ace8db011b7e4b9b4aa",
      "placeholder": "​",
      "style": "IPY_MODEL_0e13dbf29c9f438dbb93ee34f3904cd8",
      "value": " 150/150 [00:00&lt;00:00, 299.49 examples/s]"
     }
    },
    "a78c291b0b79468db93a60239a442c02": {
     "model_module": "@jupyter-widgets/controls",
     "model_module_version": "1.5.0",
     "model_name": "ProgressStyleModel",
     "state": {
      "_model_module": "@jupyter-widgets/controls",
      "_model_module_version": "1.5.0",
      "_model_name": "ProgressStyleModel",
      "_view_count": null,
      "_view_module": "@jupyter-widgets/base",
      "_view_module_version": "1.2.0",
      "_view_name": "StyleView",
      "bar_color": null,
      "description_width": ""
     }
    },
    "ab830f32abb94e92a365d2b7e381299a": {
     "model_module": "@jupyter-widgets/controls",
     "model_module_version": "1.5.0",
     "model_name": "HBoxModel",
     "state": {
      "_dom_classes": [],
      "_model_module": "@jupyter-widgets/controls",
      "_model_module_version": "1.5.0",
      "_model_name": "HBoxModel",
      "_view_count": null,
      "_view_module": "@jupyter-widgets/controls",
      "_view_module_version": "1.5.0",
      "_view_name": "HBoxView",
      "box_style": "",
      "children": [
       "IPY_MODEL_32776d83cc7d47c9a94cb92230bec4b4",
       "IPY_MODEL_8ad542c6fb214d5797272176d53bcb6b",
       "IPY_MODEL_0073791beeb94cabb136712fdf10ce50"
      ],
      "layout": "IPY_MODEL_166dc5c44fe34c27a1007d9e8ece0f73"
     }
    },
    "afbb03557a764452b6a23c2c64cefa2e": {
     "model_module": "@jupyter-widgets/controls",
     "model_module_version": "1.5.0",
     "model_name": "DescriptionStyleModel",
     "state": {
      "_model_module": "@jupyter-widgets/controls",
      "_model_module_version": "1.5.0",
      "_model_name": "DescriptionStyleModel",
      "_view_count": null,
      "_view_module": "@jupyter-widgets/base",
      "_view_module_version": "1.2.0",
      "_view_name": "StyleView",
      "description_width": ""
     }
    },
    "bb12b004f5a34bea92d461db669cb111": {
     "model_module": "@jupyter-widgets/controls",
     "model_module_version": "1.5.0",
     "model_name": "ProgressStyleModel",
     "state": {
      "_model_module": "@jupyter-widgets/controls",
      "_model_module_version": "1.5.0",
      "_model_name": "ProgressStyleModel",
      "_view_count": null,
      "_view_module": "@jupyter-widgets/base",
      "_view_module_version": "1.2.0",
      "_view_name": "StyleView",
      "bar_color": null,
      "description_width": ""
     }
    },
    "bbbd8d7ff984496a9b950f02fdfa67d7": {
     "model_module": "@jupyter-widgets/controls",
     "model_module_version": "1.5.0",
     "model_name": "FloatProgressModel",
     "state": {
      "_dom_classes": [],
      "_model_module": "@jupyter-widgets/controls",
      "_model_module_version": "1.5.0",
      "_model_name": "FloatProgressModel",
      "_view_count": null,
      "_view_module": "@jupyter-widgets/controls",
      "_view_module_version": "1.5.0",
      "_view_name": "ProgressView",
      "bar_style": "success",
      "description": "",
      "description_tooltip": null,
      "layout": "IPY_MODEL_18f51b765246483daab4c599070f95aa",
      "max": 1,
      "min": 0,
      "orientation": "horizontal",
      "style": "IPY_MODEL_3e4a9c56e09d4527a4135944ec218949",
      "value": 1
     }
    },
    "c6114f34c513497bbd9c88f7eb984c3d": {
     "model_module": "@jupyter-widgets/base",
     "model_module_version": "1.2.0",
     "model_name": "LayoutModel",
     "state": {
      "_model_module": "@jupyter-widgets/base",
      "_model_module_version": "1.2.0",
      "_model_name": "LayoutModel",
      "_view_count": null,
      "_view_module": "@jupyter-widgets/base",
      "_view_module_version": "1.2.0",
      "_view_name": "LayoutView",
      "align_content": null,
      "align_items": null,
      "align_self": null,
      "border": null,
      "bottom": null,
      "display": null,
      "flex": null,
      "flex_flow": null,
      "grid_area": null,
      "grid_auto_columns": null,
      "grid_auto_flow": null,
      "grid_auto_rows": null,
      "grid_column": null,
      "grid_gap": null,
      "grid_row": null,
      "grid_template_areas": null,
      "grid_template_columns": null,
      "grid_template_rows": null,
      "height": null,
      "justify_content": null,
      "justify_items": null,
      "left": null,
      "margin": null,
      "max_height": null,
      "max_width": null,
      "min_height": null,
      "min_width": null,
      "object_fit": null,
      "object_position": null,
      "order": null,
      "overflow": null,
      "overflow_x": null,
      "overflow_y": null,
      "padding": null,
      "right": null,
      "top": null,
      "visibility": null,
      "width": null
     }
    },
    "cc159999fe27405bba246c65902c5f1c": {
     "model_module": "@jupyter-widgets/controls",
     "model_module_version": "1.5.0",
     "model_name": "DescriptionStyleModel",
     "state": {
      "_model_module": "@jupyter-widgets/controls",
      "_model_module_version": "1.5.0",
      "_model_name": "DescriptionStyleModel",
      "_view_count": null,
      "_view_module": "@jupyter-widgets/base",
      "_view_module_version": "1.2.0",
      "_view_name": "StyleView",
      "description_width": ""
     }
    },
    "db8d411f4e754da0914b829585ef1f64": {
     "model_module": "@jupyter-widgets/controls",
     "model_module_version": "1.5.0",
     "model_name": "DescriptionStyleModel",
     "state": {
      "_model_module": "@jupyter-widgets/controls",
      "_model_module_version": "1.5.0",
      "_model_name": "DescriptionStyleModel",
      "_view_count": null,
      "_view_module": "@jupyter-widgets/base",
      "_view_module_version": "1.2.0",
      "_view_name": "StyleView",
      "description_width": ""
     }
    },
    "e557b4b88f024818bf388be291017dc6": {
     "model_module": "@jupyter-widgets/controls",
     "model_module_version": "1.5.0",
     "model_name": "HBoxModel",
     "state": {
      "_dom_classes": [],
      "_model_module": "@jupyter-widgets/controls",
      "_model_module_version": "1.5.0",
      "_model_name": "HBoxModel",
      "_view_count": null,
      "_view_module": "@jupyter-widgets/controls",
      "_view_module_version": "1.5.0",
      "_view_name": "HBoxView",
      "box_style": "",
      "children": [
       "IPY_MODEL_5c772b787af54e2e9e7340b0bbe43e8f",
       "IPY_MODEL_484082e5c382471d88283d1eb93b4122",
       "IPY_MODEL_a37e61cf4dd94107b2ffe03d898f1aec"
      ],
      "layout": "IPY_MODEL_0a83e92517864e54a5cb26b4b792418b"
     }
    },
    "e8449db7c46240139b812618cc6f9ce6": {
     "model_module": "@jupyter-widgets/controls",
     "model_module_version": "1.5.0",
     "model_name": "HTMLModel",
     "state": {
      "_dom_classes": [],
      "_model_module": "@jupyter-widgets/controls",
      "_model_module_version": "1.5.0",
      "_model_name": "HTMLModel",
      "_view_count": null,
      "_view_module": "@jupyter-widgets/controls",
      "_view_module_version": "1.5.0",
      "_view_name": "HTMLView",
      "description": "",
      "description_tooltip": null,
      "layout": "IPY_MODEL_9ecb72a7b12f403dbe9e45fc2e9373a9",
      "placeholder": "​",
      "style": "IPY_MODEL_28abaa5b0b0746b3a075543117c51795",
      "value": "Map: 100%"
     }
    },
    "ebfd498ed0764c3b9aa600d54c59151f": {
     "model_module": "@jupyter-widgets/controls",
     "model_module_version": "1.5.0",
     "model_name": "DescriptionStyleModel",
     "state": {
      "_model_module": "@jupyter-widgets/controls",
      "_model_module_version": "1.5.0",
      "_model_name": "DescriptionStyleModel",
      "_view_count": null,
      "_view_module": "@jupyter-widgets/base",
      "_view_module_version": "1.2.0",
      "_view_name": "StyleView",
      "description_width": ""
     }
    },
    "ecbe049b627d474f97b24ccdb778f823": {
     "model_module": "@jupyter-widgets/base",
     "model_module_version": "1.2.0",
     "model_name": "LayoutModel",
     "state": {
      "_model_module": "@jupyter-widgets/base",
      "_model_module_version": "1.2.0",
      "_model_name": "LayoutModel",
      "_view_count": null,
      "_view_module": "@jupyter-widgets/base",
      "_view_module_version": "1.2.0",
      "_view_name": "LayoutView",
      "align_content": null,
      "align_items": null,
      "align_self": null,
      "border": null,
      "bottom": null,
      "display": null,
      "flex": null,
      "flex_flow": null,
      "grid_area": null,
      "grid_auto_columns": null,
      "grid_auto_flow": null,
      "grid_auto_rows": null,
      "grid_column": null,
      "grid_gap": null,
      "grid_row": null,
      "grid_template_areas": null,
      "grid_template_columns": null,
      "grid_template_rows": null,
      "height": null,
      "justify_content": null,
      "justify_items": null,
      "left": null,
      "margin": null,
      "max_height": null,
      "max_width": null,
      "min_height": null,
      "min_width": null,
      "object_fit": null,
      "object_position": null,
      "order": null,
      "overflow": null,
      "overflow_x": null,
      "overflow_y": null,
      "padding": null,
      "right": null,
      "top": null,
      "visibility": null,
      "width": null
     }
    },
    "eeb8ba9bfe2749aab1c255c4784d5c92": {
     "model_module": "@jupyter-widgets/controls",
     "model_module_version": "1.5.0",
     "model_name": "HTMLModel",
     "state": {
      "_dom_classes": [],
      "_model_module": "@jupyter-widgets/controls",
      "_model_module_version": "1.5.0",
      "_model_name": "HTMLModel",
      "_view_count": null,
      "_view_module": "@jupyter-widgets/controls",
      "_view_module_version": "1.5.0",
      "_view_name": "HTMLView",
      "description": "",
      "description_tooltip": null,
      "layout": "IPY_MODEL_f6f23b0a09fe434bbc6b4046e618b461",
      "placeholder": "​",
      "style": "IPY_MODEL_3cbd639b662f495b9bdccd0a07193183",
      "value": " 149/149 [00:04&lt;00:00, 32.45 examples/s]"
     }
    },
    "f65933b08f0c4b37b44428b311810329": {
     "model_module": "@jupyter-widgets/controls",
     "model_module_version": "1.5.0",
     "model_name": "ProgressStyleModel",
     "state": {
      "_model_module": "@jupyter-widgets/controls",
      "_model_module_version": "1.5.0",
      "_model_name": "ProgressStyleModel",
      "_view_count": null,
      "_view_module": "@jupyter-widgets/base",
      "_view_module_version": "1.2.0",
      "_view_name": "StyleView",
      "bar_color": null,
      "description_width": ""
     }
    },
    "f6f23b0a09fe434bbc6b4046e618b461": {
     "model_module": "@jupyter-widgets/base",
     "model_module_version": "1.2.0",
     "model_name": "LayoutModel",
     "state": {
      "_model_module": "@jupyter-widgets/base",
      "_model_module_version": "1.2.0",
      "_model_name": "LayoutModel",
      "_view_count": null,
      "_view_module": "@jupyter-widgets/base",
      "_view_module_version": "1.2.0",
      "_view_name": "LayoutView",
      "align_content": null,
      "align_items": null,
      "align_self": null,
      "border": null,
      "bottom": null,
      "display": null,
      "flex": null,
      "flex_flow": null,
      "grid_area": null,
      "grid_auto_columns": null,
      "grid_auto_flow": null,
      "grid_auto_rows": null,
      "grid_column": null,
      "grid_gap": null,
      "grid_row": null,
      "grid_template_areas": null,
      "grid_template_columns": null,
      "grid_template_rows": null,
      "height": null,
      "justify_content": null,
      "justify_items": null,
      "left": null,
      "margin": null,
      "max_height": null,
      "max_width": null,
      "min_height": null,
      "min_width": null,
      "object_fit": null,
      "object_position": null,
      "order": null,
      "overflow": null,
      "overflow_x": null,
      "overflow_y": null,
      "padding": null,
      "right": null,
      "top": null,
      "visibility": null,
      "width": null
     }
    }
   }
  }
 },
 "nbformat": 4,
 "nbformat_minor": 0
}
